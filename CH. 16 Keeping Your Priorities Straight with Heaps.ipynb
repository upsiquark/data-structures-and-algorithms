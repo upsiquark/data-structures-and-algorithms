{
 "cells": [
  {
   "cell_type": "code",
   "execution_count": 1,
   "id": "f5d312d6-6bee-4eeb-b8e1-dafd544c51ab",
   "metadata": {},
   "outputs": [],
   "source": [
    "#Let's implement the heap class\n",
    "\n",
    "class Heap:\n",
    "    def __init__(self):\n",
    "        self.data = []\n",
    "\n",
    "    def root_node(self):\n",
    "        return self.data[0]\n",
    "\n",
    "    def last_node(self):\n",
    "        return self.data[-1]"
   ]
  },
  {
   "cell_type": "code",
   "execution_count": 1,
   "id": "9cc38cfe-1431-490f-af53-d2d2058b083b",
   "metadata": {},
   "outputs": [],
   "source": [
    "#Let's implement the heap class\n",
    "#with left and right child indices\n",
    "\n",
    "class Heap:\n",
    "    def __init__(self):\n",
    "        self.data = []\n",
    "\n",
    "    def root_node(self):\n",
    "        return self.data[0]\n",
    "\n",
    "    def last_node(self):\n",
    "        return self.data[-1]\n",
    "\n",
    "    def left_child_index(self, index):\n",
    "        return (index * 2) + 1\n",
    "\n",
    "    def right_child_index(self, index):\n",
    "        return (index * 2) + 2"
   ]
  },
  {
   "cell_type": "code",
   "execution_count": 4,
   "id": "dea94840-b39c-4b55-9808-6a7646b7cd08",
   "metadata": {},
   "outputs": [],
   "source": [
    "class Heap:\n",
    "    def __init__(self):\n",
    "        self.data = []\n",
    "\n",
    "    def root_node(self):\n",
    "        return self.data[0]\n",
    "\n",
    "    def last_node(self):\n",
    "        return self.data[-1]\n",
    "\n",
    "    def left_child_index(self, index):\n",
    "        return (index * 2) + 1\n",
    "\n",
    "    def right_child_index(self, index):\n",
    "        return (index * 2) + 2\n",
    "\n",
    "    def parent_index(self, index):\n",
    "        return (index - 1) / 2\n",
    "    \n",
    "    def insert(self, value):\n",
    "        self.data.append(value)\n",
    "\n",
    "        new_node_index = len(self.data) - 1\n",
    "\n",
    "        while new_node_index > 0 and self.data[new_node_index] > self.data[parent_index(new_node_index)]:\n",
    "            self.data[parent_index(new_node_index)], self.data[new_node_index] = self.data[new_node_index], self.data[parent_index(new_node_index)]\n",
    "\n",
    "            new_node_index = parent_index(new_node_index)"
   ]
  }
 ],
 "metadata": {
  "kernelspec": {
   "display_name": "Python 3 (ipykernel)",
   "language": "python",
   "name": "python3"
  },
  "language_info": {
   "codemirror_mode": {
    "name": "ipython",
    "version": 3
   },
   "file_extension": ".py",
   "mimetype": "text/x-python",
   "name": "python",
   "nbconvert_exporter": "python",
   "pygments_lexer": "ipython3",
   "version": "3.12.7"
  }
 },
 "nbformat": 4,
 "nbformat_minor": 5
}
