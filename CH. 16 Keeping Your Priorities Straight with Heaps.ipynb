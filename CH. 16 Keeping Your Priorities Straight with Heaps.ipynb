{
 "cells": [
  {
   "cell_type": "code",
   "execution_count": 1,
   "id": "f5d312d6-6bee-4eeb-b8e1-dafd544c51ab",
   "metadata": {},
   "outputs": [],
   "source": [
    "#Let's implement the heap class\n",
    "\n",
    "class Heap:\n",
    "    def __init__(self):\n",
    "        self.data = []\n",
    "\n",
    "    def root_node(self):\n",
    "        return self.data[0]\n",
    "\n",
    "    def last_node(self):\n",
    "        return self.data[-1]"
   ]
  },
  {
   "cell_type": "code",
   "execution_count": null,
   "id": "9cc38cfe-1431-490f-af53-d2d2058b083b",
   "metadata": {},
   "outputs": [],
   "source": [
    "#Let's implement the heap class\n",
    "#with left and right child indices\n",
    "\n",
    "class Heap:\n",
    "    def __init__(self):\n",
    "        self.data = []\n",
    "\n",
    "    def root_node(self):\n",
    "        return self.data[0]\n",
    "\n",
    "    def last_node(self):\n",
    "        return self.data[-1]\n",
    "\n",
    "    def left_child_index(self, index):\n",
    "        return (index * 2) + 1\n",
    "\n",
    "    def right_child_index(self, index):\n",
    "        return (index * 2) + 2"
   ]
  }
 ],
 "metadata": {
  "kernelspec": {
   "display_name": "Python 3 (ipykernel)",
   "language": "python",
   "name": "python3"
  },
  "language_info": {
   "codemirror_mode": {
    "name": "ipython",
    "version": 3
   },
   "file_extension": ".py",
   "mimetype": "text/x-python",
   "name": "python",
   "nbconvert_exporter": "python",
   "pygments_lexer": "ipython3",
   "version": "3.12.7"
  }
 },
 "nbformat": 4,
 "nbformat_minor": 5
}
