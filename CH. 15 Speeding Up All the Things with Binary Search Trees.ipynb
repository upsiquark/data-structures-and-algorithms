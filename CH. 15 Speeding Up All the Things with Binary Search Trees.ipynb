{
 "cells": [
  {
   "cell_type": "code",
   "execution_count": 1,
   "id": "47301198-aaaf-4831-98f6-8f9ed79cad01",
   "metadata": {},
   "outputs": [],
   "source": [
    "#Let's implement a tree node\n",
    "\n",
    "class TreeNode:\n",
    "    def __init__(self, val, left=None, right=None):\n",
    "        self.value = val\n",
    "        self.left = left\n",
    "        self.right = right"
   ]
  },
  {
   "cell_type": "code",
   "execution_count": 2,
   "id": "60ef694e-6b6d-4f4a-8574-ee9d6bdd17d6",
   "metadata": {},
   "outputs": [],
   "source": [
    "#An implementation of a binary search tree with a search function\n",
    "\n",
    "class TreeNode:\n",
    "    def __init__(self, val, left=None, right=None):\n",
    "        self.value = val\n",
    "        self.left = left\n",
    "        self.right = right\n",
    "\n",
    "def search(searchValue, node):\n",
    "        #base case: when no node exists\n",
    "        #or we arrive at the desired value\n",
    "        if (node is None or node.value == searchValue):\n",
    "            return node\n",
    "\n",
    "        #if the value is less than the current node,\n",
    "        #proceed with the left child:\n",
    "        elif (searchValue < node.value):\n",
    "            return search(searchValue, node.leftChild)\n",
    "\n",
    "        #if the value is greater than the current node,\n",
    "        #proceed with the right child:\n",
    "        else:\n",
    "            return search(searchValue, node.rightChild)"
   ]
  }
 ],
 "metadata": {
  "kernelspec": {
   "display_name": "Python 3 (ipykernel)",
   "language": "python",
   "name": "python3"
  },
  "language_info": {
   "codemirror_mode": {
    "name": "ipython",
    "version": 3
   },
   "file_extension": ".py",
   "mimetype": "text/x-python",
   "name": "python",
   "nbconvert_exporter": "python",
   "pygments_lexer": "ipython3",
   "version": "3.12.7"
  }
 },
 "nbformat": 4,
 "nbformat_minor": 5
}
