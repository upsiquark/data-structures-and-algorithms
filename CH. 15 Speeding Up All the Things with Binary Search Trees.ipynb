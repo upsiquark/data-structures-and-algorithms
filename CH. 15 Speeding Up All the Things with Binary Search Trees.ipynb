{
 "cells": [
  {
   "cell_type": "code",
   "execution_count": 1,
   "id": "47301198-aaaf-4831-98f6-8f9ed79cad01",
   "metadata": {},
   "outputs": [],
   "source": [
    "#Let's implement a tree node\n",
    "\n",
    "class TreeNode:\n",
    "    def __init__(self, val, left=None, right=None):\n",
    "        self.value = val\n",
    "        self.left = left\n",
    "        self.right = right"
   ]
  },
  {
   "cell_type": "code",
   "execution_count": 1,
   "id": "60ef694e-6b6d-4f4a-8574-ee9d6bdd17d6",
   "metadata": {},
   "outputs": [],
   "source": [
    "#An implementation a search function for a binary search tree\n",
    "\n",
    "def search(searchValue, node):\n",
    "        #base case: when no node exists\n",
    "        #or we arrive at the desired value\n",
    "        if (node is None or node.value == searchValue):\n",
    "            return node\n",
    "\n",
    "        #if the value is less than the current node,\n",
    "        #proceed with the left child:\n",
    "        elif (searchValue < node.value):\n",
    "            return search(searchValue, node.leftChild)\n",
    "\n",
    "        #if the value is greater than the current node,\n",
    "        #proceed with the right child:\n",
    "        else:\n",
    "            return search(searchValue, node.rightChild)"
   ]
  },
  {
   "cell_type": "code",
   "execution_count": 2,
   "id": "3f8e1742-6481-43dd-9112-bba0bc26c22d",
   "metadata": {},
   "outputs": [],
   "source": [
    "#An implementation of an insert function for a binary search tree\n",
    "\n",
    "def insert(value, node):\n",
    "    if (value < node.value):\n",
    "\n",
    "        #If no left child exists,\n",
    "        #insert the value as the left child\n",
    "        if (node.leftChild is None):\n",
    "            node.leftChild = TreeNode(value)\n",
    "        else:\n",
    "            insert(value, node.leftChild)\n",
    "    elif (value > node.value):\n",
    "\n",
    "        #If no right child exists,\n",
    "        #insert the value as the right child\n",
    "        if (node.rightChild is None):\n",
    "            node.rightChild = TreeNode(value)\n",
    "        else:\n",
    "            insert(value, node.rightChild)"
   ]
  }
 ],
 "metadata": {
  "kernelspec": {
   "display_name": "Python 3 (ipykernel)",
   "language": "python",
   "name": "python3"
  },
  "language_info": {
   "codemirror_mode": {
    "name": "ipython",
    "version": 3
   },
   "file_extension": ".py",
   "mimetype": "text/x-python",
   "name": "python",
   "nbconvert_exporter": "python",
   "pygments_lexer": "ipython3",
   "version": "3.12.7"
  }
 },
 "nbformat": 4,
 "nbformat_minor": 5
}
