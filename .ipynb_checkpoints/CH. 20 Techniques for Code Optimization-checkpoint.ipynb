{
 "cells": [
  {
   "cell_type": "code",
   "execution_count": 1,
   "id": "2522ddf9-b060-4dc4-938d-c72902723ce0",
   "metadata": {},
   "outputs": [],
   "source": [
    "def connect_books_with_authors(books, authors):\n",
    "    books_with_authors = []\n",
    "\n",
    "    for book in books:\n",
    "        for author in authors:\n",
    "            if (book[\"author_id\"] == author[\"author_id\"]):\n",
    "                books_with_authors.append({title: book[\"title\"], author: author[\"name\"]})\n",
    "\n",
    "    return books_with_authors"
   ]
  },
  {
   "cell_type": "code",
   "execution_count": 2,
   "id": "ac2d2ef1-967d-4018-b2cc-6084c9f220be",
   "metadata": {},
   "outputs": [],
   "source": [
    "def connect_book_with_authors(books, authors):\n",
    "    books_with_authors = []\n",
    "    author_hash_table = {}\n",
    "\n",
    "    #convert the author data into the author hash table:\n",
    "    for author in authors:\n",
    "        author_hash_table[author[\"author_id\"]] = author[\"name\"]\n",
    "    for book in books:\n",
    "        books_with_authors.append({\"title\":book[\"title\"], \"author\":author_hash_table[book[\"author_id\"]]})\n",
    "    return books_with_authors"
   ]
  }
 ],
 "metadata": {
  "kernelspec": {
   "display_name": "Python 3 (ipykernel)",
   "language": "python",
   "name": "python3"
  },
  "language_info": {
   "codemirror_mode": {
    "name": "ipython",
    "version": 3
   },
   "file_extension": ".py",
   "mimetype": "text/x-python",
   "name": "python",
   "nbconvert_exporter": "python",
   "pygments_lexer": "ipython3",
   "version": "3.12.7"
  }
 },
 "nbformat": 4,
 "nbformat_minor": 5
}
