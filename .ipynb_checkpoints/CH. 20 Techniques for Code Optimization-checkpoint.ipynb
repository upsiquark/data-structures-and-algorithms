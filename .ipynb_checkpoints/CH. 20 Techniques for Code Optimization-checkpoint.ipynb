{
 "cells": [
  {
   "cell_type": "code",
   "execution_count": 1,
   "id": "2522ddf9-b060-4dc4-938d-c72902723ce0",
   "metadata": {},
   "outputs": [],
   "source": [
    "def connect_books_with_authors(books, authors):\n",
    "    books_with_authors = []\n",
    "\n",
    "    for book in books:\n",
    "        for author in authors:\n",
    "            if (book[\"author_id\"] == author[\"author_id\"]):\n",
    "                books_with_authors.append({title: book[\"title\"], author: author[\"name\"]})\n",
    "\n",
    "    return books_with_authors"
   ]
  },
  {
   "cell_type": "code",
   "execution_count": 1,
   "id": "ac2d2ef1-967d-4018-b2cc-6084c9f220be",
   "metadata": {},
   "outputs": [],
   "source": [
    "def connect_book_with_authors(books, authors):\n",
    "    books_with_authors = []\n",
    "    author_hash_table = {}\n",
    "\n",
    "    #convert the author data into the author hash table:\n",
    "    for author in authors:\n",
    "        author_hash_table[author[\"author_id\"]] = author[\"name\"]\n",
    "    for book in books:\n",
    "        books_with_authors.append({\"title\":book[\"title\"], \"author\":author_hash_table[book[\"author_id\"]]})\n",
    "    return books_with_authors"
   ]
  },
  {
   "cell_type": "code",
   "execution_count": 1,
   "id": "1f842378-f622-4d97-b9ce-303f6576b4f9",
   "metadata": {},
   "outputs": [],
   "source": [
    "def twoSum(array):\n",
    "    for i in range(len(array)):\n",
    "        for j in range(len(array)):\n",
    "            if ((i != j) and (array[i] + array[j] == 10)):\n",
    "                return True\n",
    "    return False"
   ]
  },
  {
   "cell_type": "code",
   "execution_count": 1,
   "id": "35bbde83-446a-4a2b-8d29-0503f7fe5830",
   "metadata": {},
   "outputs": [],
   "source": [
    "def twoSum2(array):\n",
    "    hashTable = {}\n",
    "\n",
    "    for i in range(len(array)):\n",
    "        #First, check if the hash table contains a key satisfying the condition:\n",
    "        #when added to the current number would result in 10:\n",
    "        if (hashTable[10 - array[i]]):\n",
    "            return True\n",
    "        #Store every number as a key in the hash table:\n",
    "        hashTable[array[i]] = True\n",
    "\n",
    "    #If we run through the entire array without finding any number's counterpart,\n",
    "    #return False\n",
    "\n",
    "    return False"
   ]
  },
  {
   "cell_type": "code",
   "execution_count": null,
   "id": "b7f337e8-1678-4c6d-9260-21566d39a40d",
   "metadata": {},
   "outputs": [],
   "source": [
    "def game_winner(number_of_coins, current_player=\"you\"):\n",
    "    if (number_of_coins <= 0):\n",
    "        return current_player\n",
    "\n",
    "    if (current_player == \"you\"):\n",
    "        next_player = \"them\"\n",
    "    elif (current_player == \"them\"):\n",
    "        next_player = \"you\"\n",
    "\n",
    "    if (game_winner(number_of_coings - 1, next_player) == current_player) or (game_winner(number_of_coins - 2, next_player == current_player):\n",
    "        return current_player\n",
    "    else:\n",
    "        return next_player"
   ]
  }
 ],
 "metadata": {
  "kernelspec": {
   "display_name": "Python 3 (ipykernel)",
   "language": "python",
   "name": "python3"
  },
  "language_info": {
   "codemirror_mode": {
    "name": "ipython",
    "version": 3
   },
   "file_extension": ".py",
   "mimetype": "text/x-python",
   "name": "python",
   "nbconvert_exporter": "python",
   "pygments_lexer": "ipython3",
   "version": "3.12.7"
  }
 },
 "nbformat": 4,
 "nbformat_minor": 5
}
