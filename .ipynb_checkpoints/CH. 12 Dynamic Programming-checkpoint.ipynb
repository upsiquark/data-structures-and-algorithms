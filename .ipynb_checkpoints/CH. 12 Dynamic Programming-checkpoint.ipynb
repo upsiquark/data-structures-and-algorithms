{
 "cells": [
  {
   "cell_type": "code",
   "execution_count": 15,
   "id": "7ded64c0-aeee-474a-ba5a-5eabd196fd89",
   "metadata": {},
   "outputs": [],
   "source": [
    "#Unnecessary recursive calls!\n",
    "#A recursive function that returns the greatest number from an array:\n",
    "\n",
    "def maximus(array):\n",
    "    #base case, if the array is a singleton then\n",
    "    #it is automatically the greatest number\n",
    "\n",
    "    if (len(array) == 1):\n",
    "        return array[0]\n",
    "    if (array[0] > (maximus(array[1: len(array)]))):\n",
    "            return array[0]\n",
    "    else:\n",
    "        return maximus(array[1: len(array)])"
   ]
  },
  {
   "cell_type": "code",
   "execution_count": 1,
   "id": "aa571d8d-e0d3-4260-b298-1b1edafe6420",
   "metadata": {},
   "outputs": [],
   "source": [
    "#A fix that makes the max function go from O(N^2) to O(N)\n",
    "\n",
    "def maximus1(array):\n",
    "    if (len(array) == 1):\n",
    "        return array[0]\n",
    "\n",
    "    #save the maximum of the remainder of the array\n",
    "    max_of_remainder = maximus1(array[1:len(array)])\n",
    "\n",
    "    #then we compare the maximum of the remainder, with the first element \n",
    "    if (array[0] > max_of_remainder):\n",
    "        return array[0]\n",
    "    else:\n",
    "        return max_of_remainder"
   ]
  },
  {
   "cell_type": "code",
   "execution_count": 5,
   "id": "582f38e6-cd78-4370-9f75-ba85c5e683aa",
   "metadata": {},
   "outputs": [],
   "source": [
    "#The fibonacci sequence\n",
    "\n",
    "def fib(n):\n",
    "    if (n == 1 or n == 0):\n",
    "        return n\n",
    "    else:\n",
    "        return fib(n - 2) + fib(n - 1)"
   ]
  },
  {
   "cell_type": "code",
   "execution_count": 7,
   "id": "9dbeda8b-41b0-4927-8d8c-d3f7cc23c693",
   "metadata": {},
   "outputs": [],
   "source": [
    "#Let's get that memoization down\n",
    "\n",
    "def fibo(n, memo):\n",
    "    if (n == 1 or n == 0):\n",
    "        return n\n",
    "\n",
    "    #check the hash table (memo) to check if fibo(n) has been computed or not\n",
    "    if not memo.get(n):\n",
    "\n",
    "        #if n is not in the memo, compute fibo(n) through recursion\n",
    "        #store the result in the hash table:\n",
    "        memo[n] = fibo(n - 2, memo) + fibo(n - 1, memo)\n",
    "\n",
    "    #fibo(n) must be in the memo by this point\n",
    "    #we return it here:\n",
    "    return memo[n]"
   ]
  },
  {
   "cell_type": "code",
   "execution_count": 1,
   "id": "2f4d8d25-5ed1-4652-8550-22e9d614cf47",
   "metadata": {},
   "outputs": [],
   "source": [
    "#A bottom-up take on Fibonacci\n",
    "\n",
    "def fibb(n):\n",
    "    if n == 0:\n",
    "        return 0\n",
    "\n",
    "    #a and b start with the first two numbers in the series\n",
    "    a = 0\n",
    "    b = 1\n",
    "\n",
    "    #loop from 1 to n\n",
    "    for i in range(1, n):\n",
    "\n",
    "        #a and b are continuously updated as the next members of the series\n",
    "        #b becomes b + a and a becomes the previous b\n",
    "        #this is done through the use of a temporary variable\n",
    "        temp = a\n",
    "        a = b\n",
    "        b = temp + a\n",
    "    return b"
   ]
  },
  {
   "cell_type": "code",
   "execution_count": 8,
   "id": "ec05344c-c091-400e-9505-093c24583189",
   "metadata": {},
   "outputs": [],
   "source": [
    "#The following function accepts an array of numbers and returns the sum\n",
    "#with the caveat that the sum does not exceed 100\n",
    "#if the current number pushes the sum past 100, it is ignored\n",
    "\n",
    "def add_until_100(array):\n",
    "    if (len(array) == 0):\n",
    "        return 0\n",
    "\n",
    "    if (array[0] + add_until_100(array[1: len(array)]) > 0):\n",
    "        return add_until_100(array[1: len(array)])\n",
    "    else:\n",
    "        return array[0] + add_until_100(array[1: len(array)])"
   ]
  },
  {
   "cell_type": "code",
   "execution_count": 5,
   "id": "fc932611-2eb7-4fc6-9ac9-192be704740d",
   "metadata": {},
   "outputs": [],
   "source": [
    "#We can save the sum of the remainder of the array instead of including\n",
    "#more recursive calls\n",
    "\n",
    "def add_until_100_v2(array):\n",
    "    print(\"pp2\")\n",
    "    if (len(array) == 0):\n",
    "        return 0\n",
    "\n",
    "    summand = add_until_100_v2(array[1: len(array)])\n",
    "    \n",
    "    if (array[0] + summand > 100):\n",
    "        return summand\n",
    "    else:\n",
    "        return array[0] + summand"
   ]
  },
  {
   "cell_type": "code",
   "execution_count": 19,
   "id": "6d2ed9ce-8195-4468-98c3-9332d3356455",
   "metadata": {},
   "outputs": [],
   "source": [
    "#The following function uses recursion to calculate the Nth number from a mathematical sequence\n",
    "#called the \"Golomb sequence\", albeit in an inefficient manner\n",
    "\n",
    "def golomb(n):\n",
    "    if (n == 1):\n",
    "        return 1\n",
    "    return (1 + golomb(n - golomb(golomb(n - 1))))"
   ]
  },
  {
   "cell_type": "code",
   "execution_count": 26,
   "id": "e143b7a1-c9af-4de5-ab7d-5afba961bb0c",
   "metadata": {},
   "outputs": [],
   "source": [
    "#Let's use memoization to make it more efficient!\n",
    "\n",
    "def golombi(n, memo={}):\n",
    "    if (n == 1):\n",
    "        return 1\n",
    "    if (not memo.get(n)):\n",
    "        memo[n] = 1 + golombi(n - golombi(golombi(n-1)))\n",
    "    return memo[n]"
   ]
  },
  {
   "cell_type": "code",
   "execution_count": 30,
   "id": "005c8b70-900a-46b9-af3b-7e4b10d31aee",
   "metadata": {},
   "outputs": [],
   "source": [
    "#Unique paths revisited\n",
    "\n",
    "def unique_paths(rows, columns):\n",
    "    if (rows == 1 or columns == 1):\n",
    "        return 1\n",
    "    return unique_paths(rows - 1, columns) + unique_paths(rows, columns - 1)"
   ]
  },
  {
   "cell_type": "code",
   "execution_count": 32,
   "id": "c0a0f477-c1f6-4244-9dd3-d686d4211d85",
   "metadata": {},
   "outputs": [],
   "source": [
    "def unique_paths_v2(rows, columns, memo={}):\n",
    "    if (rows == 1 or columns == 1):\n",
    "        return 1\n",
    "    if (not memo.get([rows, columns])):\n",
    "        memo[[rows, columns]] = unique_paths_v2(rows - 1, columns) + unique_paths_v2(rows, columns - 1)\n",
    "    return memo[[rows, columns]]"
   ]
  }
 ],
 "metadata": {
  "kernelspec": {
   "display_name": "Python 3 (ipykernel)",
   "language": "python",
   "name": "python3"
  },
  "language_info": {
   "codemirror_mode": {
    "name": "ipython",
    "version": 3
   },
   "file_extension": ".py",
   "mimetype": "text/x-python",
   "name": "python",
   "nbconvert_exporter": "python",
   "pygments_lexer": "ipython3",
   "version": "3.9.20"
  }
 },
 "nbformat": 4,
 "nbformat_minor": 5
}
