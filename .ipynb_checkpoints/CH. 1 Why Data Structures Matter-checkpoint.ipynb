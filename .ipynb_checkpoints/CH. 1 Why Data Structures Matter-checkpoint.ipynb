{
 "cells": [
  {
   "cell_type": "code",
   "execution_count": 1,
   "id": "42e72d1f",
   "metadata": {},
   "outputs": [],
   "source": [
    "def print_numbers_version_one():\n",
    "    number = 2\n",
    "    \n",
    "    while number <= 100:\n",
    "        # If number is even, print it:\n",
    "        if number % 2 == 0:\n",
    "            print(number)\n",
    "        number += 1"
   ]
  },
  {
   "cell_type": "code",
   "execution_count": 2,
   "id": "f6c2c092",
   "metadata": {},
   "outputs": [],
   "source": [
    "def print_numbers_version_two():\n",
    "    number = 2\n",
    "    \n",
    "    while number <= 100:\n",
    "        print(number)\n",
    "        # increase the number by 2, which, by definition,\n",
    "        # is the next even number:\n",
    "        number += 2"
   ]
  },
  {
   "cell_type": "code",
   "execution_count": 6,
   "id": "e25f3dcc",
   "metadata": {},
   "outputs": [],
   "source": [
    "def print_numbers_version_three(x):\n",
    "    for i in range(1,x+2):\n",
    "        if i % 2 == 0:\n",
    "            print(i)"
   ]
  },
  {
   "cell_type": "code",
   "execution_count": 12,
   "id": "bb3c8fa4",
   "metadata": {},
   "outputs": [],
   "source": [
    "def print_numbers_version_four():\n",
    "    number = int(input(\"print even numbers up to: \"))\n",
    "    for i in range(1,number+2):\n",
    "        if i % 2 == 0:\n",
    "            print(i)"
   ]
  },
  {
   "cell_type": "code",
   "execution_count": null,
   "id": "f9657abc",
   "metadata": {},
   "outputs": [],
   "source": []
  }
 ],
 "metadata": {
  "kernelspec": {
   "display_name": "Python 3 (ipykernel)",
   "language": "python",
   "name": "python3"
  },
  "language_info": {
   "codemirror_mode": {
    "name": "ipython",
    "version": 3
   },
   "file_extension": ".py",
   "mimetype": "text/x-python",
   "name": "python",
   "nbconvert_exporter": "python",
   "pygments_lexer": "ipython3",
   "version": "3.9.12"
  }
 },
 "nbformat": 4,
 "nbformat_minor": 5
}
