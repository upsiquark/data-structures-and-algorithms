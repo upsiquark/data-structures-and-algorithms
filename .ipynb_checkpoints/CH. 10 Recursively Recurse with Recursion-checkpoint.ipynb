{
 "cells": [
  {
   "cell_type": "code",
   "execution_count": 8,
   "id": "6fb289be-2258-43b3-b84e-27938f7bffb8",
   "metadata": {},
   "outputs": [],
   "source": [
    "#Implement a function that accepts a natural number, called natty for short,\n",
    "#and counts down from that number to 0\n",
    "\n",
    "def countDown(natty):\n",
    "    if (natty == 0):\n",
    "        return 0\n",
    "    else:\n",
    "        print(natty)\n",
    "        return countDown(natty-1)"
   ]
  },
  {
   "cell_type": "code",
   "execution_count": 11,
   "id": "e81295ef-3613-4040-b8a9-180187ccb905",
   "metadata": {},
   "outputs": [],
   "source": [
    "#Create a function that calculates factorials up to\n",
    "#the given natural number\n",
    "\n",
    "def factorial(nat):\n",
    "    if (nat == 1):\n",
    "        return 1\n",
    "    else:\n",
    "        return nat*factorial(nat-1)"
   ]
  },
  {
   "cell_type": "code",
   "execution_count": 35,
   "id": "b4bf1ab6-fb38-47f9-b490-a4bfff3165a5",
   "metadata": {},
   "outputs": [],
   "source": [
    "#Let's make a script that prints the names of all subdirectories\n",
    "#within a directory\n",
    "#I couldn't find a way to make this work with using os, so I had help with this one.\n",
    "\n",
    "def find_directories1(directory):\n",
    "    import os\n",
    "    #first we check each file within the directory\n",
    "    #some of which may be subdirectories\n",
    "    for file in os.listdir(directory):\n",
    "\n",
    "        #check if current file is a directory\n",
    "        if (os.path.isdir(os.path.join(directory, file)) and file not in (\".\", \"..\")):\n",
    "            #print out the full path\n",
    "            print (os.path.join(directory, file))"
   ]
  },
  {
   "cell_type": "code",
   "execution_count": 44,
   "id": "3869cafc-0b75-45a8-ba50-b909766dd9a4",
   "metadata": {},
   "outputs": [],
   "source": [
    "#We need this to not only find a way to go through the current subdirectories,\n",
    "#but the subdirectories within the subdirectories\n",
    "\n",
    "#Let's make a script that prints the names of all subdirectories\n",
    "#within a directory\n",
    "#I couldn't find a way to make this work with using os, so I had help with this one.\n",
    "\n",
    "def find_directories2(directory):\n",
    "    import os\n",
    "    #first we check each file within the directory\n",
    "    #some of which may be subdirectories\n",
    "    for file in os.listdir(directory):\n",
    "\n",
    "        #check if current file is a directory\n",
    "        if (os.path.isdir(os.path.join(directory, file)) and file not in (\".\", \"..\")):\n",
    "            #print out the full path\n",
    "            print (os.path.join(directory, file))\n",
    "            for inner_file in os.listdir(os.path.join(directory, file)):\n",
    "                if (os.path.isdir(os.path.join(file, inner_file)) and inner_file not in (\".\", \"..\")):\n",
    "                    print(os.path.join(file, inner_file))"
   ]
  },
  {
   "cell_type": "code",
   "execution_count": 45,
   "id": "462467ca-806d-4f20-a7ca-285aa1f826cc",
   "metadata": {},
   "outputs": [],
   "source": [
    "#Let's do this with recursion\n",
    "\n",
    "def find_directoriesR(directory):\n",
    "    import os\n",
    "    for file in os.listdir(directory):\n",
    "        if (os.path.isdir(os.path.join(directory, file)) and file not in (\".\", \"..\")):\n",
    "            print (os.path.join(directory, file))\n",
    "\n",
    "            find_directories(os.path.join(directory, file))"
   ]
  },
  {
   "cell_type": "code",
   "execution_count": 3,
   "id": "93be26ae-a34a-46d6-a614-d5f969a31446",
   "metadata": {},
   "outputs": [],
   "source": [
    "#The following function prints every other number from the low number to the high number\n",
    "\n",
    "def print_every_other(low, high):\n",
    "    if (low > high):\n",
    "        return\n",
    "    print(low)\n",
    "    print_every_other(low + 2, high)"
   ]
  },
  {
   "cell_type": "code",
   "execution_count": 1,
   "id": "c54d6396-1b9c-4ed1-8d0b-3dba0524150d",
   "metadata": {},
   "outputs": [],
   "source": [
    "#Erroneous factorial\n",
    "#What happens when we put any even number?\n",
    "\n",
    "def factorial(n):\n",
    "    if (n == 1):\n",
    "        return 1\n",
    "    else:\n",
    "        return n * factorial(n-2)"
   ]
  },
  {
   "cell_type": "code",
   "execution_count": 25,
   "id": "68f69d77-047b-4de9-aa3b-0f4ddcbc1729",
   "metadata": {},
   "outputs": [],
   "source": [
    "#The following function takes two numbers, low and high\n",
    "#then returns the sum of all of the numbers from low to high\n",
    "\n",
    "def summand(low, high):\n",
    "    if (low == high):\n",
    "        return low\n",
    "    return (high + summand(low, high-1))"
   ]
  },
  {
   "cell_type": "code",
   "execution_count": 22,
   "id": "adba8b60-a045-4847-a807-5eefcfeb685d",
   "metadata": {},
   "outputs": [],
   "source": [
    "#Here is a recursive function that takes the sum of the numbers in the following array:\n",
    "\n",
    "array = [ 1, 2, 3, [ 4, 5, 6], 7, [ 8, [ 9, 10, 11, [12, 13, 14]]], [ 15, 16, 17, 18, 19, [ 20, 21, 22, [ 23, 24, 25, [ 26, 27, 28, 29]], 30, 31], 32], 33]"
   ]
  },
  {
   "cell_type": "code",
   "execution_count": 26,
   "id": "54c5c758-5a21-456c-8eb1-2d204341e023",
   "metadata": {},
   "outputs": [],
   "source": [
    "#This was my attempt without using isinstance,\n",
    "#it only gets part of the answer correctly and ends prematurely\n",
    "\n",
    "def array_sum(array):\n",
    "    if (arrays == []):\n",
    "        return array_sum(array)\n",
    "    poppy = arrays.pop()\n",
    "    if (type(poppy) == list):            \n",
    "        return array_sum(poppy)\n",
    "    else:\n",
    "        return (poppy + array_sum(arrays))"
   ]
  },
  {
   "cell_type": "code",
   "execution_count": 28,
   "id": "bd5ee723-6f15-4f61-8f20-2bfd826e1dd5",
   "metadata": {},
   "outputs": [],
   "source": [
    "#Here is a solution that uses isinstance:\n",
    "\n",
    "def array_sum2(array):\n",
    "    summation = 0\n",
    "    for element in arrays:\n",
    "        if isinstance(element, list):\n",
    "            summation += array_sum2(element)\n",
    "        else:\n",
    "            summation += element\n",
    "    return summation"
   ]
  },
  {
   "cell_type": "code",
   "execution_count": 29,
   "id": "376a6b58-6b1d-4d69-bb8f-fd07d740e02b",
   "metadata": {},
   "outputs": [],
   "source": [
    "#The actual exercise in the book only requires that we print the numbers recursively\n",
    "\n",
    "def print_array_numbers(array):\n",
    "    for element in array:\n",
    "        if isinstance(element, list):\n",
    "            print_array_numbers(element)\n",
    "        else:\n",
    "            print(element)"
   ]
  }
 ],
 "metadata": {
  "kernelspec": {
   "display_name": "Python 3 (ipykernel)",
   "language": "python",
   "name": "python3"
  },
  "language_info": {
   "codemirror_mode": {
    "name": "ipython",
    "version": 3
   },
   "file_extension": ".py",
   "mimetype": "text/x-python",
   "name": "python",
   "nbconvert_exporter": "python",
   "pygments_lexer": "ipython3",
   "version": "3.9.20"
  }
 },
 "nbformat": 4,
 "nbformat_minor": 5
}
