{
 "cells": [
  {
   "cell_type": "code",
   "execution_count": 1,
   "id": "9dae396a-2182-4603-84af-c3844562666d",
   "metadata": {},
   "outputs": [],
   "source": [
    "#The following function takes the mean of the even numbers in an array\n",
    "#it also tracks the count of even numbers\n",
    "\n",
    "def average_of_even_numbers(array):\n",
    "    total = 0.0\n",
    "    count_of_even_numbers = 0\n",
    "    \n",
    "    #begin by iterating through the array\n",
    "    \n",
    "    for i in array:\n",
    "        if (i % 2 == 0):\n",
    "            total += i\n",
    "            count_of_even_numbers += 1\n",
    "    #return the mean\n",
    "    return (total / count_of_even_numbers)"
   ]
  },
  {
   "cell_type": "code",
   "execution_count": 5,
   "id": "b9e526a9-e559-474b-aeba-e3bcca15b11f",
   "metadata": {},
   "outputs": [],
   "source": [
    "#The next algorithm collects every combination of two-character strings\n",
    "#constructed from an array of single characters\n",
    "\n",
    "def wordBuilder(array):\n",
    "    collection = []\n",
    "    for i in range(len(array)):\n",
    "        for j in range(len(array)):\n",
    "            if (i != j):\n",
    "                collection.append(array[i] + array[j])\n",
    "    return collection"
   ]
  },
  {
   "cell_type": "code",
   "execution_count": 8,
   "id": "c79e47df-7b40-4ea5-8e0f-81544cf9db83",
   "metadata": {},
   "outputs": [],
   "source": [
    "#The next algorithm collects every combination of three-character strings\n",
    "#constructed from an array of single characters\n",
    "def wordBuilder2(array):\n",
    "    collection = []\n",
    "    for k in range(len(array)):\n",
    "        for h in range(len(array)):\n",
    "            for l in range(len(array)):\n",
    "                if (k != h and h!= l and l != k):\n",
    "                    collection.append(array[k] + array[h] + array[l])\n",
    "    return collection"
   ]
  },
  {
   "cell_type": "code",
   "execution_count": 12,
   "id": "458b1b30-ac5f-4abe-8e01-fe6fdb2d63bc",
   "metadata": {},
   "outputs": [],
   "source": [
    "#The following algorithm returns the first, middle, and last elements of an array\n",
    "\n",
    "def sample(array):\n",
    "    first = array[0]\n",
    "    middle = array[int(len(array)/ 2)]\n",
    "    last = array[-1]\n",
    "    \n",
    "    return[first, middle, last]"
   ]
  },
  {
   "cell_type": "code",
   "execution_count": null,
   "id": "86f32868-fb05-46ea-a071-7f35a0e79094",
   "metadata": {},
   "outputs": [],
   "source": []
  }
 ],
 "metadata": {
  "kernelspec": {
   "display_name": "Python 3 (ipykernel)",
   "language": "python",
   "name": "python3"
  },
  "language_info": {
   "codemirror_mode": {
    "name": "ipython",
    "version": 3
   },
   "file_extension": ".py",
   "mimetype": "text/x-python",
   "name": "python",
   "nbconvert_exporter": "python",
   "pygments_lexer": "ipython3",
   "version": "3.9.20"
  }
 },
 "nbformat": 4,
 "nbformat_minor": 5
}
