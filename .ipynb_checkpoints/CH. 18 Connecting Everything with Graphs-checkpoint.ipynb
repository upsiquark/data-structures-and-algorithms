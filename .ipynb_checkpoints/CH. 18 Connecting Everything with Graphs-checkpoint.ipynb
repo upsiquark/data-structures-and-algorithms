{
 "cells": [
  {
   "cell_type": "code",
   "execution_count": 1,
   "id": "99539037-045c-4048-bd8c-34186794f7ae",
   "metadata": {},
   "outputs": [],
   "source": [
    "#Let's start with an object-oriented\n",
    "#implementation of a graph\n",
    "\n",
    "class Vertex:\n",
    "    def __init__(self, value):\n",
    "        self.value = value\n",
    "        self.adjacent_vertices = []\n",
    "\n",
    "    def add_adjacent_vertex(self, vertex):\n",
    "        self.adjacent_vertices.append(vertex)"
   ]
  },
  {
   "cell_type": "code",
   "execution_count": 1,
   "id": "269f3224-b41b-4d66-bef0-ab9347717979",
   "metadata": {},
   "outputs": [],
   "source": [
    "#Let's start with an object-oriented\n",
    "#implementation of a graph\n",
    "\n",
    "class Vertex:\n",
    "    def __init__(self, value):\n",
    "        self.value = value\n",
    "        self.adjacent_vertices = []\n",
    "\n",
    "    def add_adjacent_vertex(self, vertex):\n",
    "        if vertex in adjacent_vertices:\n",
    "            return\n",
    "        self.adjacent_vertices.append(vertex)\n",
    "        vertex.add_adjacent_vertex(self)"
   ]
  },
  {
   "cell_type": "code",
   "execution_count": 2,
   "id": "da224584-76af-4f11-a0e1-8085d87e424e",
   "metadata": {},
   "outputs": [],
   "source": [
    "#Let's implement a depth-first search function\n",
    "\n",
    "def dfs_traverse(vertex, visited_vertices={}):\n",
    "    #Mark the vertex as visited by adding it to hash table:\n",
    "    visited_vertices[vertex.value] = True\n",
    "\n",
    "    #Print the vertex's value, so we can make sure our traversal really works:\n",
    "    print(vertext.value)\n",
    "\n",
    "    #Iterate through the current vertex's adjacent vertices:\n",
    "    for adjacent_vertex in vertex.adjacent_vertices:\n",
    "\n",
    "        #Ignore an adjacent vertex if we've already visited it:\n",
    "        if visited_vertices[adjacent_vertex.value]:\n",
    "            continue\n",
    "        #Recursively call this method on the adjacent vertex:\n",
    "        dfs_traverse(adjacent_vertex, visited_vertices)"
   ]
  }
 ],
 "metadata": {
  "kernelspec": {
   "display_name": "Python 3 (ipykernel)",
   "language": "python",
   "name": "python3"
  },
  "language_info": {
   "codemirror_mode": {
    "name": "ipython",
    "version": 3
   },
   "file_extension": ".py",
   "mimetype": "text/x-python",
   "name": "python",
   "nbconvert_exporter": "python",
   "pygments_lexer": "ipython3",
   "version": "3.12.7"
  }
 },
 "nbformat": 4,
 "nbformat_minor": 5
}
