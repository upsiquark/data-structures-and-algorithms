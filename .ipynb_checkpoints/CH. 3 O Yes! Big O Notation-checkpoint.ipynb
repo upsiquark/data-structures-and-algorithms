{
 "cells": [
  {
   "cell_type": "code",
   "execution_count": 11,
   "id": "3bae847e",
   "metadata": {},
   "outputs": [],
   "source": [
    "things = ['apples', 'baboons', 'cribs', 'dulcimers']"
   ]
  },
  {
   "cell_type": "code",
   "execution_count": null,
   "id": "497ced00",
   "metadata": {},
   "outputs": [],
   "source": [
    "for thing in things:\n",
    "    print(\"Here's a thing: %s\" % thing)\n"
   ]
  },
  {
   "cell_type": "code",
   "execution_count": 19,
   "id": "33039043",
   "metadata": {},
   "outputs": [],
   "source": [
    "def is_prime(number):\n",
    "    for i in range(2, number):\n",
    "        if number % i == 0:\n",
    "            return False\n",
    "    return True"
   ]
  },
  {
   "cell_type": "code",
   "execution_count": 20,
   "id": "bb760583",
   "metadata": {},
   "outputs": [],
   "source": [
    "def isLeapYear(year):\n",
    "    return (year % 4 == 0)"
   ]
  },
  {
   "cell_type": "code",
   "execution_count": 34,
   "id": "dcb35bee",
   "metadata": {},
   "outputs": [],
   "source": [
    "def arraySum(array):\n",
    "    sum = 0\n",
    "    \n",
    "    for i in range(len(array)):\n",
    "        sum += array[i]\n",
    "    \n",
    "    return sum"
   ]
  },
  {
   "cell_type": "code",
   "execution_count": 38,
   "id": "b859f7b7",
   "metadata": {},
   "outputs": [],
   "source": [
    "#imagine you have a chessboard and put a single grain of rice on one square.\n",
    "#On the second square , you put 2 grains fo rice,\n",
    "#since that is double the amount of rice on the previous square.\n",
    "#On the third square, you put 4 grains.\n",
    "#On the fourth square, you put 8 grains, and on the fifth square,\n",
    "#you put 16 grains, and so on.\n",
    "#The following function calculates which square you'll need to place\n",
    "#a certain number of rice grains.\n",
    "\n",
    "def chessboardSpace(numberOfGrains):\n",
    "    chessboardSpaces = 1\n",
    "    placedGrains = 1\n",
    "    \n",
    "    while (placedGrains < numberOfGrains):\n",
    "        placedGrains *= 2\n",
    "        chessboardSpaces += 1\n",
    "    return chessboardSpaces"
   ]
  },
  {
   "cell_type": "code",
   "execution_count": 43,
   "id": "d7e33ee1",
   "metadata": {},
   "outputs": [],
   "source": [
    "#The following function accepts an array of strings\n",
    "#and returns a new array that only contains the strings\n",
    "#that start with the character \"a\".\n",
    "\n",
    "def selectAStrings(array):\n",
    "    newArray = []\n",
    "    for i in range(len(array)):\n",
    "        if array[i][0] == \"a\":\n",
    "            newArray.append(array[i])\n",
    "    return newArray"
   ]
  },
  {
   "cell_type": "code",
   "execution_count": 48,
   "id": "b28ca421",
   "metadata": {},
   "outputs": [],
   "source": [
    "#The following function calculates the median from an ordered array.\n",
    "\n",
    "def median(array):\n",
    "    middle = math.floor(len(array) / 2)\n",
    "    \n",
    "    #If the array has an even amount of numbers:\n",
    "    if (len(array) % 2 == 0):\n",
    "        return (array[middle-1] + array[middle]) / 2\n",
    "    else:\n",
    "    #If the array has an odd amount of numbers:\n",
    "        return array[middle]"
   ]
  },
  {
   "cell_type": "code",
   "execution_count": null,
   "id": "392ad754",
   "metadata": {},
   "outputs": [],
   "source": []
  }
 ],
 "metadata": {
  "kernelspec": {
   "display_name": "Python 3 (ipykernel)",
   "language": "python",
   "name": "python3"
  },
  "language_info": {
   "codemirror_mode": {
    "name": "ipython",
    "version": 3
   },
   "file_extension": ".py",
   "mimetype": "text/x-python",
   "name": "python",
   "nbconvert_exporter": "python",
   "pygments_lexer": "ipython3",
   "version": "3.9.20"
  }
 },
 "nbformat": 4,
 "nbformat_minor": 5
}
