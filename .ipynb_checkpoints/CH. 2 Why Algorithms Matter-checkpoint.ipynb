{
 "cells": [
  {
   "cell_type": "code",
   "execution_count": 1,
   "id": "3736eeb6",
   "metadata": {},
   "outputs": [],
   "source": [
    "def linear_search(array, search_value):\n",
    "    #we iterate through every element in the array:\n",
    "    for idx, x in enumerate(array):\n",
    "        # If we find the value we're looking for, we return its index:\n",
    "        if x == search_value:\n",
    "            return idx\n",
    "        # If we reach an element that is greater than the value\n",
    "        # we're looking for, we can exit the loop early:\n",
    "        elif x > search_value:\n",
    "            break\n",
    "    # We return nil if we do not find the value within the array: \n",
    "    return None"
   ]
  },
  {
   "cell_type": "code",
   "execution_count": 13,
   "id": "0d2ee91e",
   "metadata": {},
   "outputs": [],
   "source": [
    "def binary_search(array, search_value):\n",
    "    #First, we establish the lower and upper bounds of where the value\n",
    "    #we're searching for can be. To start, the lower bound is the first\n",
    "    #value in the array, while the upper bound is the last value:\n",
    "\n",
    "    lower_bound = 0\n",
    "    upper_bound = len(array) - 1\n",
    "\n",
    "    #we begin a loop in which we keep inspecting the middlemost value \n",
    "    #between the upper and lower bounds:\n",
    "\n",
    "    while lower_bound <= upper_bound:\n",
    "        #We find the midpoint between the upper and lower bounds:\n",
    "        #(We don't have to worry about the results being a non-integer)\n",
    "        # In python, we utilize the // floor division operator\n",
    "        # In Ruby, the result of division of integers will always\n",
    "        # be rounded down to the neared integer\n",
    "        \n",
    "        midpoint = (upper_bound + lower_bound) // 2\n",
    "        \n",
    "        # We inspect the value at the midpoint:\n",
    "        \n",
    "        value_at_midpoint = array[midpoint]\n",
    "        \n",
    "        #If the value at the midpoint is the one we're looking for, we're done.\n",
    "        #If not, we cahnge the lower or upper bound based on whether we need\n",
    "        #to guess higher or lower:\n",
    "        \n",
    "        if search_value == value_at_midpoint:\n",
    "            return midpoint\n",
    "        elif search_value < value_at_midpoint:\n",
    "            upper_bound = midpoint - 1\n",
    "        elif search_value > value_at_midpoint:\n",
    "            lower_bound = midpoint + 1\n",
    "        \n",
    "    #If we've narrowed the bounds until they've reached each other, that\n",
    "    #means that the value we're searching for is not contained within\n",
    "    #this array:\n",
    "    return \"number not found\""
   ]
  },
  {
   "cell_type": "code",
   "execution_count": null,
   "id": "3aecc3ab",
   "metadata": {},
   "outputs": [],
   "source": []
  }
 ],
 "metadata": {
  "kernelspec": {
   "display_name": "Python 3 (ipykernel)",
   "language": "python",
   "name": "python3"
  },
  "language_info": {
   "codemirror_mode": {
    "name": "ipython",
    "version": 3
   },
   "file_extension": ".py",
   "mimetype": "text/x-python",
   "name": "python",
   "nbconvert_exporter": "python",
   "pygments_lexer": "ipython3",
   "version": "3.9.20"
  }
 },
 "nbformat": 4,
 "nbformat_minor": 5
}
