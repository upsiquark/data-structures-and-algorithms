{
 "cells": [
  {
   "cell_type": "code",
   "execution_count": 1,
   "id": "f1258b0e-40e9-46eb-8bcb-684502b98023",
   "metadata": {},
   "outputs": [],
   "source": [
    "#Here's a Python implementation of Selection Sort:\n",
    "\n",
    "def selectionSort(array):\n",
    "    for i in range(len(array)-1):\n",
    "        lowestNumberIndex = i\n",
    "        for j in range(i+1,len(array)):\n",
    "            if (array[j] < array[lowestNumberIndex]):\n",
    "                lowestNumberIndex = j\n",
    "        if (lowestNumberIndex != i):\n",
    "            temp = array[i]\n",
    "            array[i] = array[lowestNumberIndex]\n",
    "            array[lowestNumberIndex] = temp\n",
    "    return array"
   ]
  },
  {
   "cell_type": "code",
   "execution_count": 3,
   "id": "924aa0dd-3df9-464c-88df-93d67f8f0f6b",
   "metadata": {},
   "outputs": [],
   "source": [
    "#Returning to examples from Chapter 1\n",
    "\n",
    "def print_numbers_version_one(upperLimit):\n",
    "    number = 2\n",
    "    \n",
    "    while number <= upperLimit:\n",
    "        #If number is event, print it!\n",
    "        if number % 2 == 0:\n",
    "            print(number)\n",
    "        number += 1"
   ]
  },
  {
   "cell_type": "code",
   "execution_count": 5,
   "id": "1ca30887-2712-4e16-9e58-2bede31248f7",
   "metadata": {},
   "outputs": [],
   "source": [
    "def print_numbers_version_two(upperLimit):\n",
    "    number = 2\n",
    "    while number <= upperLimit:\n",
    "        print(number)\n",
    "        \n",
    "        #Increase the number by 2, which, by definition,\n",
    "        #is the next even number:\n",
    "        number += 2"
   ]
  },
  {
   "cell_type": "code",
   "execution_count": 3,
   "id": "618568b7-1bbe-446e-9db6-e79e2d9e9397",
   "metadata": {},
   "outputs": [],
   "source": [
    "#Let's do some exercises!\n",
    "#This function returns the sum of all the numbers in an array\n",
    "#after they have been doubled!\n",
    "\n",
    "def double_then_sum(array):\n",
    "    doubled_array = []\n",
    "    for i in array:\n",
    "        doubled_array.append(2*i)\n",
    "    sum = 0\n",
    "    for j in doubled_array:\n",
    "        sum += j\n",
    "    return sum"
   ]
  },
  {
   "cell_type": "code",
   "execution_count": 6,
   "id": "12d3aff2-33c0-4b57-aa7a-dea50ce721d9",
   "metadata": {},
   "outputs": [],
   "source": [
    "#This function accepts an array of strings\n",
    "#and prints each string in multiple cases:\n",
    "\n",
    "def multiple_cases(array):\n",
    "    for i in array:\n",
    "        print(i.upper())\n",
    "        print(i.lower())\n",
    "        print(i.capitalize())"
   ]
  },
  {
   "cell_type": "code",
   "execution_count": 7,
   "id": "f097e0ce-8409-465b-97ce-84b7f280afa9",
   "metadata": {},
   "outputs": [],
   "source": [
    "def every_other(array):\n",
    "    for idx, i in enumerate(array):\n",
    "        if idx % 2 == 0:\n",
    "            for j in array:\n",
    "                print(i+j)"
   ]
  }
 ],
 "metadata": {
  "kernelspec": {
   "display_name": "Python 3 (ipykernel)",
   "language": "python",
   "name": "python3"
  },
  "language_info": {
   "codemirror_mode": {
    "name": "ipython",
    "version": 3
   },
   "file_extension": ".py",
   "mimetype": "text/x-python",
   "name": "python",
   "nbconvert_exporter": "python",
   "pygments_lexer": "ipython3",
   "version": "3.9.20"
  }
 },
 "nbformat": 4,
 "nbformat_minor": 5
}
