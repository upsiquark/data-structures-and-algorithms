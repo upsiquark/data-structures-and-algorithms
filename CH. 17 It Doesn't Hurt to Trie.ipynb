{
 "cells": [
  {
   "cell_type": "code",
   "execution_count": 1,
   "id": "ff8d21a6-fc14-406e-98ec-99a9b5c1cde5",
   "metadata": {},
   "outputs": [],
   "source": [
    "class TrieNode:\n",
    "    def __init__(self):\n",
    "        self.children = {}"
   ]
  },
  {
   "cell_type": "code",
   "execution_count": 1,
   "id": "b10565d4-b5e2-4f6e-9286-9e285f93eb39",
   "metadata": {},
   "outputs": [],
   "source": [
    "class Trie:\n",
    "    def __init__(self):\n",
    "        self.root = TrieNode()"
   ]
  },
  {
   "cell_type": "code",
   "execution_count": 3,
   "id": "69b16dd4-a456-4288-85f4-cd771e2952d2",
   "metadata": {},
   "outputs": [],
   "source": [
    "#Let's implement Trie Search\n",
    "\n",
    "class Trie:\n",
    "    def __init__(self):\n",
    "        self.root = TrieNode()\n",
    "\n",
    "    def search(self, word):\n",
    "        currentNode = self.root\n",
    "\n",
    "        for char in word:\n",
    "            #if the current node has child key with current character:\n",
    "            if currentNode.children.get(char):\n",
    "                #Follow the child node:\n",
    "                currentNode = currentNode.children[char]\n",
    "            else:\n",
    "                #If the current character isn't found among\n",
    "                #the current node's children, our search word\n",
    "                #must not be in the trie:\n",
    "                return None\n",
    "\n",
    "        return currentNode"
   ]
  }
 ],
 "metadata": {
  "kernelspec": {
   "display_name": "Python 3 (ipykernel)",
   "language": "python",
   "name": "python3"
  },
  "language_info": {
   "codemirror_mode": {
    "name": "ipython",
    "version": 3
   },
   "file_extension": ".py",
   "mimetype": "text/x-python",
   "name": "python",
   "nbconvert_exporter": "python",
   "pygments_lexer": "ipython3",
   "version": "3.12.7"
  }
 },
 "nbformat": 4,
 "nbformat_minor": 5
}
