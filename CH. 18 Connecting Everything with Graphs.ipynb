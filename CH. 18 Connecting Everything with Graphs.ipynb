{
 "cells": [
  {
   "cell_type": "code",
   "execution_count": 2,
   "id": "99539037-045c-4048-bd8c-34186794f7ae",
   "metadata": {},
   "outputs": [],
   "source": [
    "#Let's start with an object-oriented\n",
    "#implementation of a graph\n",
    "\n",
    "class Vertex:\n",
    "    def __init__(self, value):\n",
    "        self.value = value\n",
    "        self.adjacent_vertices = []\n",
    "\n",
    "    def add_adjacent_vertex(self, vertex):\n",
    "        self.adjacent_vertices.append(vertex)"
   ]
  }
 ],
 "metadata": {
  "kernelspec": {
   "display_name": "Python 3 (ipykernel)",
   "language": "python",
   "name": "python3"
  },
  "language_info": {
   "codemirror_mode": {
    "name": "ipython",
    "version": 3
   },
   "file_extension": ".py",
   "mimetype": "text/x-python",
   "name": "python",
   "nbconvert_exporter": "python",
   "pygments_lexer": "ipython3",
   "version": "3.12.7"
  }
 },
 "nbformat": 4,
 "nbformat_minor": 5
}
