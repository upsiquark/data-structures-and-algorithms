{
 "cells": [
  {
   "cell_type": "code",
   "execution_count": 1,
   "id": "88c2a30d-595e-4fd7-95a2-73f25314070d",
   "metadata": {},
   "outputs": [],
   "source": [
    "#Implementation of Insertion Sort\n",
    "\n",
    "def insertion_sort(array):\n",
    "    for index in range(1, len(array)):\n",
    "\n",
    "        temp_value = array[index]\n",
    "        position = index - 1\n",
    "        \n",
    "        while position >= 0:\n",
    "            if array[position] > temp_value:\n",
    "                array[position + 1] = array[position]\n",
    "                position = position - 1\n",
    "            else:\n",
    "                break\n",
    "        array[position + 1] = temp_value\n",
    "    return array"
   ]
  },
  {
   "cell_type": "code",
   "execution_count": 7,
   "id": "a67a8c7b-2768-41f2-8a3a-eb9ddce5ea73",
   "metadata": {},
   "outputs": [],
   "source": [
    "#Finding the intersection between two arrays!\n",
    "\n",
    "def intersection(array_one, array_two):\n",
    "    result = []\n",
    "    for i in range(len(array_one)):\n",
    "        for j in range(len(array_two)):\n",
    "            if (array_one[i] == array_two[j]):\n",
    "                result.append(array_one[i])\n",
    "    return result"
   ]
  },
  {
   "cell_type": "code",
   "execution_count": 9,
   "id": "e3a49305-cb6d-4367-b552-91bc7c23903c",
   "metadata": {},
   "outputs": [],
   "source": [
    "#Let's make this more efficient\n",
    "\n",
    "def intersection2(array_one, array_two):\n",
    "    result = []\n",
    "    for i in range(len(array_one)):\n",
    "        for j in range(len(array_two)):\n",
    "            if (array_one[i] == array_two[j]):\n",
    "                result.append(array_one[i])\n",
    "                break\n",
    "    return result"
   ]
  },
  {
   "cell_type": "code",
   "execution_count": 5,
   "id": "e5134019-42e6-446d-910c-9cebdfca7a82",
   "metadata": {},
   "outputs": [],
   "source": [
    "#Let's begin the exercises!\n",
    "#this function checks whether an array of numbers contains a pair\n",
    "#of two numbers that add up to 10\n",
    "\n",
    "def twoSum(array):\n",
    "    for i in range(len(array)):\n",
    "        for j in range(len(array)):\n",
    "            if (i != j and (array[i] + array[j]) == 10):\n",
    "                return True\n",
    "    return False"
   ]
  },
  {
   "cell_type": "code",
   "execution_count": 7,
   "id": "4fb381d6-38a4-4f59-b052-a0e64deb7171",
   "metadata": {},
   "outputs": [],
   "source": [
    "#This function returns whether or not a capital \"X\" is present within a string\n",
    "\n",
    "def containsX(string):\n",
    "    foundX = False\n",
    "    for i in range(len(string)):\n",
    "        if (string[i] == \"X\"):\n",
    "            foundX = True\n",
    "    return foundX"
   ]
  },
  {
   "cell_type": "code",
   "execution_count": 8,
   "id": "71541e36-7cdb-46bd-ae3e-bba9d30030ef",
   "metadata": {},
   "outputs": [],
   "source": [
    "#this function returns whether or not a capital \"X\" is present within a string\n",
    "#it is more efficient than the previous example\n",
    "\n",
    "def containsX(string):\n",
    "    foundX = False\n",
    "    for i in range(len(string)):\n",
    "        if (string[i] == \"X\"):\n",
    "            foundX = True\n",
    "            #if we find \"X\" at any point through the loop, we can end the search there\n",
    "            return foundX\n",
    "    return foundX"
   ]
  },
  {
   "cell_type": "code",
   "execution_count": 9,
   "id": "7a3be113-3889-432a-a9fd-deeab723f6d6",
   "metadata": {},
   "outputs": [],
   "source": [
    "#this function returns whether or not a capital \"X\" is present within a string\n",
    "#this is the solution presented in the text\n",
    "\n",
    "def containsX(string):\n",
    "    for i in range(len(string)):\n",
    "        if (string[i] == \"X\"):\n",
    "            #if we find \"X\" at any point through the loop, we can end the search there\n",
    "            return True\n",
    "    return False"
   ]
  }
 ],
 "metadata": {
  "kernelspec": {
   "display_name": "Python 3 (ipykernel)",
   "language": "python",
   "name": "python3"
  },
  "language_info": {
   "codemirror_mode": {
    "name": "ipython",
    "version": 3
   },
   "file_extension": ".py",
   "mimetype": "text/x-python",
   "name": "python",
   "nbconvert_exporter": "python",
   "pygments_lexer": "ipython3",
   "version": "3.9.20"
  }
 },
 "nbformat": 4,
 "nbformat_minor": 5
}
