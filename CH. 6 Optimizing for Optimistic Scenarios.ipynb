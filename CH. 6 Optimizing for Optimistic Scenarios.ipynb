{
 "cells": [
  {
   "cell_type": "code",
   "execution_count": 1,
   "id": "88c2a30d-595e-4fd7-95a2-73f25314070d",
   "metadata": {},
   "outputs": [],
   "source": [
    "#Implementation of Insertion Sort\n",
    "\n",
    "def insertion_sort(array):\n",
    "    for index in range(1, len(array)):\n",
    "\n",
    "        temp_value = array[index]\n",
    "        position = index - 1\n",
    "        \n",
    "        while position >= 0:\n",
    "            if array[position] > temp_value:\n",
    "                array[position + 1] = array[position]\n",
    "                position = position - 1\n",
    "            else:\n",
    "                break\n",
    "        array[position + 1] = temp_value\n",
    "    return array"
   ]
  },
  {
   "cell_type": "code",
   "execution_count": 7,
   "id": "a67a8c7b-2768-41f2-8a3a-eb9ddce5ea73",
   "metadata": {},
   "outputs": [],
   "source": [
    "#Finding the intersection between two arrays!\n",
    "\n",
    "def intersection(array_one, array_two):\n",
    "    result = []\n",
    "    for i in range(len(array_one)):\n",
    "        for j in range(len(array_two)):\n",
    "            if (array_one[i] == array_two[j]):\n",
    "                result.append(array_one[i])\n",
    "    return result"
   ]
  },
  {
   "cell_type": "code",
   "execution_count": 9,
   "id": "e3a49305-cb6d-4367-b552-91bc7c23903c",
   "metadata": {},
   "outputs": [],
   "source": [
    "#Let's make this more efficient\n",
    "\n",
    "def intersection2(array_one, array_two):\n",
    "    result = []\n",
    "    for i in range(len(array_one)):\n",
    "        for j in range(len(array_two)):\n",
    "            if (array_one[i] == array_two[j]):\n",
    "                result.append(array_one[i])\n",
    "                break\n",
    "    return result"
   ]
  },
  {
   "cell_type": "code",
   "execution_count": null,
   "id": "e5134019-42e6-446d-910c-9cebdfca7a82",
   "metadata": {},
   "outputs": [],
   "source": []
  }
 ],
 "metadata": {
  "kernelspec": {
   "display_name": "Python 3 (ipykernel)",
   "language": "python",
   "name": "python3"
  },
  "language_info": {
   "codemirror_mode": {
    "name": "ipython",
    "version": 3
   },
   "file_extension": ".py",
   "mimetype": "text/x-python",
   "name": "python",
   "nbconvert_exporter": "python",
   "pygments_lexer": "ipython3",
   "version": "3.9.20"
  }
 },
 "nbformat": 4,
 "nbformat_minor": 5
}
