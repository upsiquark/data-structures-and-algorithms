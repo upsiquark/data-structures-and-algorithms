{
 "cells": [
  {
   "cell_type": "code",
   "execution_count": 1,
   "id": "e1c883c5-4156-4a03-8a4d-9b2f4ff529fe",
   "metadata": {},
   "outputs": [],
   "source": [
    "def makeUppercase(array):\n",
    "    newArray = []\n",
    "\n",
    "    for i in range(len(array)):\n",
    "        newArray[i] = array[i].upper()\n",
    "\n",
    "    return newArray"
   ]
  },
  {
   "cell_type": "code",
   "execution_count": 2,
   "id": "8cfaf0b6-b873-4a44-b519-1f2dae870f6a",
   "metadata": {},
   "outputs": [],
   "source": [
    "def makeUpperCase(array):\n",
    "    for i in range(len(array)):\n",
    "        array[i] = array[i].upper()\n",
    "\n",
    "    return array"
   ]
  },
  {
   "cell_type": "code",
   "execution_count": 1,
   "id": "2c558845-9660-454e-9d93-6a5eaf6ce6a7",
   "metadata": {},
   "outputs": [],
   "source": [
    "def hasDuplicateValue(array):\n",
    "    for i in range(len(array)):\n",
    "        for j in range(len(array)):\n",
    "            if (i != j and array[i] == array[j]):\n",
    "                return True\n",
    "    return False"
   ]
  },
  {
   "cell_type": "code",
   "execution_count": 1,
   "id": "7d4a9d36-0c0f-488a-924b-c494dcd68953",
   "metadata": {},
   "outputs": [],
   "source": [
    "def hasDuplicateValue_ON(array):\n",
    "    existingValues = {}\n",
    "    for i in range(len(array)):\n",
    "        if (not existingValues[array[i]]):\n",
    "            existingValues[array[i]] = True\n",
    "        else:\n",
    "            return True\n",
    "    return False"
   ]
  },
  {
   "cell_type": "code",
   "execution_count": 1,
   "id": "65b67198-2548-4a59-967f-fa587c972499",
   "metadata": {},
   "outputs": [],
   "source": [
    "def hasDuplicateValue_err(array):\n",
    "    array.sort(key=lambda a: (a,1))\n",
    "\n",
    "    for i in range(len(array-1)):\n",
    "        if (array[i] == array[i+1]):\n",
    "            return True\n",
    "    return False"
   ]
  },
  {
   "cell_type": "code",
   "execution_count": 2,
   "id": "3427b728-2c49-4747-96ca-fd7bfe08572c",
   "metadata": {},
   "outputs": [],
   "source": [
    "def recurse(n):\n",
    "    if (n < 0):\n",
    "        return\n",
    "    print(log(n))\n",
    "    recurse(n - 1)"
   ]
  },
  {
   "cell_type": "code",
   "execution_count": 1,
   "id": "5395df4e-ba3e-47ac-8b9f-057bb667723d",
   "metadata": {},
   "outputs": [],
   "source": [
    "def loop(n):\n",
    "    while (n >= 0):\n",
    "        print(log(n))\n",
    "        n -= 1"
   ]
  },
  {
   "cell_type": "code",
   "execution_count": 1,
   "id": "bf035fec-36e7-4136-92aa-fe5e089c1ae3",
   "metadata": {},
   "outputs": [],
   "source": [
    "def wordBuilder(array):\n",
    "    collection = []\n",
    "\n",
    "    for i in range(len(array)):\n",
    "        for j in range(len(array)):\n",
    "            if (i != j):\n",
    "                collection.append(array[i] + array[j])\n",
    "    return collection"
   ]
  },
  {
   "cell_type": "code",
   "execution_count": 1,
   "id": "09933c32-8429-40b3-aea3-7519faa0bef5",
   "metadata": {},
   "outputs": [],
   "source": [
    "def reverse(array):\n",
    "    newArray = []\n",
    "\n",
    "    for i in range(len(array)):\n",
    "        newArray.append(len(array)-i)\n",
    "\n",
    "    return newArray"
   ]
  },
  {
   "cell_type": "code",
   "execution_count": 2,
   "id": "652a50f7-3315-411d-bee2-147a4d776597",
   "metadata": {},
   "outputs": [],
   "source": [
    "def reversal(array):\n",
    "    for i in range(len(array)/2):\n",
    "        [array[i], array[(len(array) - 1) - i]] = [array[(len(array) - 1) - i], array[i]]\n",
    "    return array"
   ]
  }
 ],
 "metadata": {
  "kernelspec": {
   "display_name": "Python 3 (ipykernel)",
   "language": "python",
   "name": "python3"
  },
  "language_info": {
   "codemirror_mode": {
    "name": "ipython",
    "version": 3
   },
   "file_extension": ".py",
   "mimetype": "text/x-python",
   "name": "python",
   "nbconvert_exporter": "python",
   "pygments_lexer": "ipython3",
   "version": "3.12.7"
  }
 },
 "nbformat": 4,
 "nbformat_minor": 5
}
