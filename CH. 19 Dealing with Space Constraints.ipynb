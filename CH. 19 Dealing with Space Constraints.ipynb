{
 "cells": [
  {
   "cell_type": "code",
   "execution_count": null,
   "id": "e1c883c5-4156-4a03-8a4d-9b2f4ff529fe",
   "metadata": {},
   "outputs": [],
   "source": [
    "def makeUppercase(array):\n",
    "    newArray = []\n",
    "\n",
    "    for i in range(len(array)):\n",
    "        newArray[i] = array[i].upper()\n",
    "\n",
    "    return newArray"
   ]
  }
 ],
 "metadata": {
  "kernelspec": {
   "display_name": "Python 3 (ipykernel)",
   "language": "python",
   "name": "python3"
  },
  "language_info": {
   "codemirror_mode": {
    "name": "ipython",
    "version": 3
   },
   "file_extension": ".py",
   "mimetype": "text/x-python",
   "name": "python",
   "nbconvert_exporter": "python",
   "pygments_lexer": "ipython3",
   "version": "3.12.7"
  }
 },
 "nbformat": 4,
 "nbformat_minor": 5
}
