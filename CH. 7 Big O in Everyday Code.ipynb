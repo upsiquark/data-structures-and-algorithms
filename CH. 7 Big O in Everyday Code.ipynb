{
 "cells": [
  {
   "cell_type": "code",
   "execution_count": 1,
   "id": "9dae396a-2182-4603-84af-c3844562666d",
   "metadata": {},
   "outputs": [],
   "source": [
    "#The following function takes the mean of the even numbers in an array\n",
    "#it also tracks the count of even numbers\n",
    "\n",
    "def average_of_even_numbers(array):\n",
    "    total = 0.0\n",
    "    count_of_even_numbers = 0\n",
    "    \n",
    "    #begin by iterating through the array\n",
    "    \n",
    "    for i in array:\n",
    "        if (i % 2 == 0):\n",
    "            total += i\n",
    "            count_of_even_numbers += 1\n",
    "    #return the mean\n",
    "    return (total / count_of_even_numbers)"
   ]
  },
  {
   "cell_type": "code",
   "execution_count": 5,
   "id": "b9e526a9-e559-474b-aeba-e3bcca15b11f",
   "metadata": {},
   "outputs": [],
   "source": [
    "#The next algorithm collects every combination of two-character strings\n",
    "#constructed from an array of single characters\n",
    "\n",
    "def wordBuilder(array):\n",
    "    collection = []\n",
    "    for i in range(len(array)):\n",
    "        for j in range(len(array)):\n",
    "            if (i != j):\n",
    "                collection.append(array[i] + array[j])\n",
    "    return collection"
   ]
  },
  {
   "cell_type": "code",
   "execution_count": 8,
   "id": "c79e47df-7b40-4ea5-8e0f-81544cf9db83",
   "metadata": {},
   "outputs": [],
   "source": [
    "#The next algorithm collects every combination of three-character strings\n",
    "#constructed from an array of single characters\n",
    "def wordBuilder2(array):\n",
    "    collection = []\n",
    "    for k in range(len(array)):\n",
    "        for h in range(len(array)):\n",
    "            for l in range(len(array)):\n",
    "                if (k != h and h!= l and l != k):\n",
    "                    collection.append(array[k] + array[h] + array[l])\n",
    "    return collection"
   ]
  },
  {
   "cell_type": "code",
   "execution_count": 12,
   "id": "458b1b30-ac5f-4abe-8e01-fe6fdb2d63bc",
   "metadata": {},
   "outputs": [],
   "source": [
    "#The following algorithm returns the first, middle, and last elements of an array\n",
    "\n",
    "def sample(array):\n",
    "    first = array[0]\n",
    "    middle = array[int(len(array)/ 2)]\n",
    "    last = array[-1]\n",
    "    \n",
    "    return[first, middle, last]"
   ]
  },
  {
   "cell_type": "code",
   "execution_count": 9,
   "id": "86f32868-fb05-46ea-a071-7f35a0e79094",
   "metadata": {},
   "outputs": [],
   "source": [
    "#This algorithm takes Farenheit readings\n",
    "#converts them from Fahrenheit to Celsius\n",
    "#and calculates the mean of all the Celcius numbers\n",
    "#returns the mean\n",
    "\n",
    "def average_celsius(fahrenheit_readings):\n",
    "    #we hold the Celsius conversions in an array\n",
    "    celsius_numbers = []\n",
    "    \n",
    "    #let's convert the Fahrenheit readings to Celsius and append them\n",
    "    for fahrenheit_reading in fahrenheit_readings:\n",
    "        celsius_conversion = (fahrenheit_reading - 32) / 1.8\n",
    "        celsius_numbers.append(celsius_conversion)\n",
    "\n",
    "    #let's take the sum of the converted temperatures and the length of our array\n",
    "    total = 0.0\n",
    "    length = len(celsius_numbers)\n",
    "    \n",
    "    for j in celsius_numbers:\n",
    "        total += j\n",
    "        \n",
    "    #return the mean\n",
    "    return (total / length)"
   ]
  },
  {
   "cell_type": "code",
   "execution_count": 1,
   "id": "048d60f6-af78-4e47-a0f1-7f338e2cecbe",
   "metadata": {},
   "outputs": [],
   "source": [
    "#Next, we have an algorithm that takes an array\n",
    "#containing newly manufactured clothing items stored as strings\n",
    "#then returns a label containing the item type and size\n",
    "\n",
    "def mark_inventory(clothing_items):\n",
    "    clothing_options = []\n",
    "    \n",
    "    for item in clothing_items:\n",
    "        #We account for sizes 1 through 5\n",
    "        for size in range(1,6):\n",
    "            clothing_options.append(item + \" Size: \" + str(size))\n",
    "    return clothing_options"
   ]
  },
  {
   "cell_type": "code",
   "execution_count": 2,
   "id": "d2d77762-66b3-4707-a933-dacd0a45c3cb",
   "metadata": {},
   "outputs": [],
   "source": [
    "#This functions takes an array of arrays\n",
    "#the inner arrays contain 1s and 0s\n",
    "#the output is a count of the 1s\n",
    "\n",
    "def count_ones(outer_array):\n",
    "    count = 0\n",
    "    \n",
    "    for inner_array in outer_array:\n",
    "        for number in inner_array:\n",
    "            if number == 1:\n",
    "                count += 1\n",
    "    return count"
   ]
  },
  {
   "cell_type": "code",
   "execution_count": 1,
   "id": "02c4cc6b-3517-4af8-b494-3ce532cddd3e",
   "metadata": {},
   "outputs": [],
   "source": [
    "#Let's make a palindrome checker\n",
    "\n",
    "def isPalindrome(string):\n",
    "\n",
    "    #initialize left index at 0\n",
    "    leftIndex = 0\n",
    "    #initialize right index at the final index\n",
    "    rightIndex = len(string) - 1\n",
    "    \n",
    "    #iterate from the left index to the middle of the array\n",
    "    while (leftIndex < len(string) / 2):\n",
    "        \n",
    "        #if the character on the left is distinct\n",
    "        #from the one on the right\n",
    "        #we do not have a palidrome\n",
    "        if (string[leftIndex] != string [rightIndex]):\n",
    "            return False\n",
    "            \n",
    "        #shift leftIndex one position right\n",
    "        leftIndex += 1\n",
    "        #shift rightIndex one position left\n",
    "        rightIndex -= 1\n",
    "        \n",
    "    #if everything matches up\n",
    "    #we have a palindrome\n",
    "    return True"
   ]
  },
  {
   "cell_type": "code",
   "execution_count": 10,
   "id": "5237734d-3c6d-4dcd-b077-8baf3f790149",
   "metadata": {},
   "outputs": [],
   "source": [
    "#We continue with a function that returns all possible product pairs\n",
    "#from numbers in an array\n",
    "\n",
    "def twoNumberProducts(array):\n",
    "    products = [];\n",
    "    #Outer array\n",
    "    for i in range(len(array)-1):\n",
    "        #inner array, beginning one index ahead of i\n",
    "        for j in range(i+1,len(array)):\n",
    "            products.append(array[i]*array[j])\n",
    "    return products"
   ]
  },
  {
   "cell_type": "code",
   "execution_count": 15,
   "id": "747adad5-1730-4d50-945b-b551912fcb1b",
   "metadata": {},
   "outputs": [],
   "source": [
    "#Now a function that computes the products of elements from two arrays\n",
    "\n",
    "def twoNumbersProducts_two(array1, array2):\n",
    "    products = []\n",
    "    for i in range(len(array1)):\n",
    "        for j in range(len(array2)):\n",
    "            products.append(array1[i]*array2[j])\n",
    "    return products"
   ]
  },
  {
   "cell_type": "code",
   "execution_count": 30,
   "id": "54f8ec93-97f1-4d0c-81ff-e7c0333ac24d",
   "metadata": {},
   "outputs": [],
   "source": [
    "#Brute force password cracker\n",
    "\n",
    "def every_password(n):\n",
    "    for i in range(26 ** n):\n",
    "        passw = ''\n",
    "        number = i\n",
    "        for j in range(n):\n",
    "            passw = chr(number % 26 + ord('a')) + passw\n",
    "            number //= 26\n",
    "        print(passw)"
   ]
  },
  {
   "cell_type": "code",
   "execution_count": 1,
   "id": "2e6894ca-ec1b-4be0-af7d-7948ae23c38d",
   "metadata": {},
   "outputs": [],
   "source": [
    "def every_password2(n):\n",
    "    from itertools import product\n",
    "    \n",
    "    for p in product('abcdefghijklmnopqrstuvwxyz', repeat=n):\n",
    "        print(''.join(p))"
   ]
  },
  {
   "cell_type": "code",
   "execution_count": 3,
   "id": "47b76d1d-e5ba-4516-983d-4caf4147020d",
   "metadata": {},
   "outputs": [],
   "source": [
    "#The following function returns True if the array passed into it is \n",
    "#a '100-Sum Array'\n",
    "#First and last numbers add up to 100\n",
    "#Second and second-to-last numbers add up to 100\n",
    "#Third and Third-to-last numbers add up to 100\n",
    "\n",
    "def one_hundred_sum(array):\n",
    "    leftIndex = 0\n",
    "    rightIndex = len(array) - 1\n",
    "    \n",
    "    while left_index < len(array) / 2:\n",
    "        if (array[leftIndex] + array[rightIndex] != 100):\n",
    "            return False\n",
    "            \n",
    "        leftIndex += 1\n",
    "        rightIndex -= 1\n",
    "        \n",
    "    return True"
   ]
  },
  {
   "cell_type": "code",
   "execution_count": 24,
   "id": "c6efc6d7-1736-4c97-9e21-17ec47c7a6ca",
   "metadata": {},
   "outputs": [],
   "source": [
    "#This function merges two sorted arrays and creates a new sorted array\n",
    "#The new array has all the values from the original two\n",
    "\n",
    "def merge(array_1, array_2):\n",
    "    new_array = []\n",
    "    array_1_pointer = 0\n",
    "    array_2_pointer = 0\n",
    "    \n",
    "    #the loop iterates through to the end of both arrays\n",
    "    while ((array_1_pointer < len(array_1)) or (array_2_pointer < len(array_2))):\n",
    "                \n",
    "        #Once we reach the end of array number one, add the elements of the second\n",
    "        if (array_1_pointer == len(array_1)):\n",
    "            new_array.append(array_2[array_2_pointer])\n",
    "            array_2_pointer += 1\n",
    "        elif (array_2_pointer == len(array_2)):\n",
    "            new_array.append(array_1[array_1_pointer])\n",
    "            array_1_pointer += 1\n",
    "        #Check if current number in first array is less than current number in second array\n",
    "        #If this is the case, add from first array:\n",
    "        elif (array_1[array_1_pointer] < array_2[array_2_pointer]):\n",
    "            new_array.append(array_1[array_1_pointer])\n",
    "            array_1_pointer += 1\n",
    "        #If current number in second array is less than current number in first array\n",
    "        #add from second array:\n",
    "        else:\n",
    "            new_array.append(array_2[array_2_pointer])\n",
    "            array_2_pointer += 1\n",
    "\n",
    "    return new_array"
   ]
  },
  {
   "cell_type": "code",
   "execution_count": null,
   "id": "a9d0d832-873e-4495-9277-23700a721e79",
   "metadata": {},
   "outputs": [],
   "source": []
  }
 ],
 "metadata": {
  "kernelspec": {
   "display_name": "Python 3 (ipykernel)",
   "language": "python",
   "name": "python3"
  },
  "language_info": {
   "codemirror_mode": {
    "name": "ipython",
    "version": 3
   },
   "file_extension": ".py",
   "mimetype": "text/x-python",
   "name": "python",
   "nbconvert_exporter": "python",
   "pygments_lexer": "ipython3",
   "version": "3.9.20"
  }
 },
 "nbformat": 4,
 "nbformat_minor": 5
}
