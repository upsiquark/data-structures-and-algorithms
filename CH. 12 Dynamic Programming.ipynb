{
 "cells": [
  {
   "cell_type": "code",
   "execution_count": 15,
   "id": "7ded64c0-aeee-474a-ba5a-5eabd196fd89",
   "metadata": {},
   "outputs": [],
   "source": [
    "#Unnecessary recursive calls!\n",
    "#A recursive function that returns the greatest number from an array:\n",
    "\n",
    "def maximus(array):\n",
    "    #base case, if the array is a singleton then\n",
    "    #it is automatically the greatest number\n",
    "\n",
    "    if (len(array) == 1):\n",
    "        return array[0]\n",
    "    if (array[0] > (maximus(array[1: len(array)]))):\n",
    "            return array[0]\n",
    "    else:\n",
    "        return maximus(array[1: len(array)])"
   ]
  },
  {
   "cell_type": "code",
   "execution_count": null,
   "id": "aa571d8d-e0d3-4260-b298-1b1edafe6420",
   "metadata": {},
   "outputs": [],
   "source": []
  }
 ],
 "metadata": {
  "kernelspec": {
   "display_name": "Python 3 (ipykernel)",
   "language": "python",
   "name": "python3"
  },
  "language_info": {
   "codemirror_mode": {
    "name": "ipython",
    "version": 3
   },
   "file_extension": ".py",
   "mimetype": "text/x-python",
   "name": "python",
   "nbconvert_exporter": "python",
   "pygments_lexer": "ipython3",
   "version": "3.9.20"
  }
 },
 "nbformat": 4,
 "nbformat_minor": 5
}
