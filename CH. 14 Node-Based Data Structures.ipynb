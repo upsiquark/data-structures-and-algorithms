{
 "cells": [
  {
   "cell_type": "code",
   "execution_count": 1,
   "id": "c59e76f0-0223-44c3-8eed-c4e2dd847892",
   "metadata": {},
   "outputs": [],
   "source": [
    "#Let's implement a linked list\n",
    "#begin with the node class\n",
    "\n",
    "class Node:\n",
    "    def __init__(self, data, next_node=None):\n",
    "        self.data = data\n",
    "        self.next_node=next_node"
   ]
  },
  {
   "cell_type": "code",
   "execution_count": 1,
   "id": "85d37246-eddf-4afe-8478-31a880d059bd",
   "metadata": {},
   "outputs": [],
   "source": [
    "#Let's implement a linked list class\n",
    "\n",
    "class LinkedList:\n",
    "    def __init__(self, first_node):\n",
    "        self.first_node = first_node"
   ]
  },
  {
   "cell_type": "code",
   "execution_count": 3,
   "id": "f4d31fe6-f950-4177-8c00-4f772b1ae4ba",
   "metadata": {},
   "outputs": [],
   "source": [
    "#Let's implement a linked list class\n",
    "#with reading\n",
    "\n",
    "class LinkedList:\n",
    "    def __init__(self, first_node):\n",
    "        self.first_node = first_node\n",
    "\n",
    "    def read(self, index):\n",
    "        current_node = first_node\n",
    "        current_index = 0\n",
    "\n",
    "        while (current_index < index):\n",
    "            current_node = current_node.next_node\n",
    "            current_index += 1\n",
    "\n",
    "            if not current_node:\n",
    "                return None\n",
    "    \n",
    "        return current_node.data"
   ]
  }
 ],
 "metadata": {
  "kernelspec": {
   "display_name": "Python 3 (ipykernel)",
   "language": "python",
   "name": "python3"
  },
  "language_info": {
   "codemirror_mode": {
    "name": "ipython",
    "version": 3
   },
   "file_extension": ".py",
   "mimetype": "text/x-python",
   "name": "python",
   "nbconvert_exporter": "python",
   "pygments_lexer": "ipython3",
   "version": "3.9.20"
  }
 },
 "nbformat": 4,
 "nbformat_minor": 5
}
