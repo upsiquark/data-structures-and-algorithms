{
 "cells": [
  {
   "cell_type": "code",
   "execution_count": 1,
   "id": "2522ddf9-b060-4dc4-938d-c72902723ce0",
   "metadata": {},
   "outputs": [],
   "source": [
    "def connect_books_with_authors(books, authors):\n",
    "    books_with_authors = []\n",
    "\n",
    "    for book in books:\n",
    "        for author in authors:\n",
    "            if (book[\"author_id\"] == author[\"author_id\"]):\n",
    "                books_with_authors.append({title: book[\"title\"], author: author[\"name\"]})\n",
    "\n",
    "    return books_with_authors"
   ]
  },
  {
   "cell_type": "code",
   "execution_count": 1,
   "id": "ac2d2ef1-967d-4018-b2cc-6084c9f220be",
   "metadata": {},
   "outputs": [],
   "source": [
    "def connect_book_with_authors(books, authors):\n",
    "    books_with_authors = []\n",
    "    author_hash_table = {}\n",
    "\n",
    "    #convert the author data into the author hash table:\n",
    "    for author in authors:\n",
    "        author_hash_table[author[\"author_id\"]] = author[\"name\"]\n",
    "    for book in books:\n",
    "        books_with_authors.append({\"title\":book[\"title\"], \"author\":author_hash_table[book[\"author_id\"]]})\n",
    "    return books_with_authors"
   ]
  },
  {
   "cell_type": "code",
   "execution_count": 1,
   "id": "1f842378-f622-4d97-b9ce-303f6576b4f9",
   "metadata": {},
   "outputs": [],
   "source": [
    "def twoSum(array):\n",
    "    for i in range(len(array)):\n",
    "        for j in range(len(array)):\n",
    "            if ((i != j) and (array[i] + array[j] == 10)):\n",
    "                return True\n",
    "    return False"
   ]
  },
  {
   "cell_type": "code",
   "execution_count": 1,
   "id": "35bbde83-446a-4a2b-8d29-0503f7fe5830",
   "metadata": {},
   "outputs": [],
   "source": [
    "def twoSum2(array):\n",
    "    hashTable = {}\n",
    "\n",
    "    for i in range(len(array)):\n",
    "        #First, check if the hash table contains a key satisfying the condition:\n",
    "        #when added to the current number would result in 10:\n",
    "        if (hashTable[10 - array[i]]):\n",
    "            return True\n",
    "        #Store every number as a key in the hash table:\n",
    "        hashTable[array[i]] = True\n",
    "\n",
    "    #If we run through the entire array without finding any number's counterpart,\n",
    "    #return False\n",
    "\n",
    "    return False"
   ]
  },
  {
   "cell_type": "code",
   "execution_count": 3,
   "id": "b7f337e8-1678-4c6d-9260-21566d39a40d",
   "metadata": {},
   "outputs": [],
   "source": [
    "def game_winner(number_of_coins, current_player=\"you\"):\n",
    "    if (number_of_coins <= 0):\n",
    "        return current_player\n",
    "\n",
    "    if (current_player == \"you\"):\n",
    "        next_player = \"them\"\n",
    "    elif (current_player == \"them\"):\n",
    "        next_player = \"you\"\n",
    "\n",
    "    if (game_winner(number_of_coins - 1, next_player) == current_player) or (game_winner(number_of_coins - 2, next_player) == current_player):\n",
    "        return current_player\n",
    "    else:\n",
    "        return next_player"
   ]
  },
  {
   "cell_type": "code",
   "execution_count": 1,
   "id": "d3c9e613-4a11-4f27-9f32-6ec3a7ab077f",
   "metadata": {},
   "outputs": [],
   "source": [
    "def game_winner_(number_of_coins):\n",
    "    if ((number_of_coins - 1)%3 == 0):\n",
    "        return \"them\"\n",
    "    else:\n",
    "        return \"you\""
   ]
  },
  {
   "cell_type": "code",
   "execution_count": 1,
   "id": "96a84059-eb9a-41cd-bae8-e1c1f8933b73",
   "metadata": {},
   "outputs": [],
   "source": [
    "def sum_swap(array_1, array_2):\n",
    "    #hash table used to store the values from the first array\n",
    "    hash_table = {}\n",
    "    sum_1 = 0\n",
    "    sum_2 = 0\n",
    "\n",
    "    #Save the sum of the first array, storing its values\n",
    "    #within a hash table, as well as the index\n",
    "    for num, index in array_1:\n",
    "        sum_1 += num\n",
    "        hash_table[num] = index\n",
    "\n",
    "    #Proceed with the sum of the second array\n",
    "    for num in array_2:\n",
    "        sum += num\n",
    "\n",
    "    #Calculate the necessary shift for each number in the second array\n",
    "    #if the difference between the sums is odd\n",
    "    #return None\n",
    "    #There will be no whole integer in the middle of both sums\n",
    "    #so no swap is possible\n",
    "    #since the input only contains integers\n",
    "    if ((sum_1 - sum_2)%2 == 1):\n",
    "        return None\n",
    "    shift_amount = (sum_1 - sum_2) / 2\n",
    "\n",
    "    #Parse through the second array:\n",
    "    for num, index in array_2:\n",
    "        #Check the hash table for a given number's counterpart\n",
    "        #within the first array\n",
    "        #calculated as the sum of the current number\n",
    "        #and the amount it must be shifted by:\n",
    "        if hash_table[num + shift_amount]:\n",
    "            return [hash_table[num + shift_amount], index]\n",
    "    return None"
   ]
  },
  {
   "cell_type": "code",
   "execution_count": 1,
   "id": "c73fd55d-e46e-4f51-9149-178fca9e2e16",
   "metadata": {},
   "outputs": [],
   "source": [
    "def max(array):\n",
    "    greatest_number = array[0]\n",
    "\n",
    "    for number in array:\n",
    "        if number > greatest_number:\n",
    "            greatest_number = number\n",
    "    return greatest_number"
   ]
  },
  {
   "cell_type": "code",
   "execution_count": 1,
   "id": "f2cf1229-ac2b-4235-934d-b6450c8b6b0e",
   "metadata": {},
   "outputs": [],
   "source": [
    "def max_sum(array):\n",
    "    current_sum = 0 \n",
    "    greatest_sum = 0\n",
    "    \n",
    "    for num in array:\n",
    "        #If the current sum is negative, reset the sum to zero\n",
    "        if (current_sum + num < 0):\n",
    "            currenjt_sum = 0\n",
    "        else:\n",
    "            current_sum += num\n",
    "\n",
    "            #Suppose the current sum is the greatest sum\n",
    "            #proceeding with this assumption:\n",
    "            if (current_sum > greatest_num):\n",
    "                greatest_sum = current_sum\n",
    "\n",
    "    return greatest_sum"
   ]
  },
  {
   "cell_type": "code",
   "execution_count": 1,
   "id": "f45d029c-9ee5-41c2-ac0f-4dca5dcc2c6a",
   "metadata": {},
   "outputs": [],
   "source": [
    "def increasin_triplet(array):\n",
    "    lowest_price = array[0]\n",
    "    middle_price = float('inf')\n",
    "\n",
    "    for price in array:\n",
    "        if (price <= lowest_price):\n",
    "            lowest_price = price\n",
    "\n",
    "        #if the current price is greater than the lowest\n",
    "        #but lower than the middle:\n",
    "        elif (price <= middle_price):\n",
    "            middle_price = price\n",
    "\n",
    "        #if the current price is higher than the middle:\n",
    "        else:\n",
    "            return True\n",
    "\n",
    "    return False"
   ]
  },
  {
   "cell_type": "code",
   "execution_count": 1,
   "id": "c3772a16-7026-4944-b150-4cbd1bc25d87",
   "metadata": {},
   "outputs": [],
   "source": [
    "def areAnagrams(firstString, secondString):\n",
    "    #First, convert the secondn string into an array\n",
    "    #in order to remove characters from it\n",
    "    secondStringArray = list(secondString)\n",
    "\n",
    "    for i in range(0, len(firstString)):\n",
    "\n",
    "        #If the second string's array is empty,\n",
    "        #but the first string is not:\n",
    "        if (len(secondStringArray) == 0):\n",
    "            return False\n",
    "\n",
    "        for j in range(0, len(secondStringArray)):\n",
    "\n",
    "            #If the same character appears in both strings:\n",
    "            if (firstString[i] == secondString[j]):\n",
    "\n",
    "                #Delete the character from the second string's array\n",
    "                #then return to the outer loop:\n",
    "                del secondStringArray[j]\n",
    "                break\n",
    "    #The two strings are anagrams only if the second string array\n",
    "    #is empty after we finish interating through the first string\n",
    "\n",
    "    return len(secondStringArray) == 0"
   ]
  },
  {
   "cell_type": "code",
   "execution_count": 1,
   "id": "2cc728e1-3673-4851-acea-75fa7a6f1d8d",
   "metadata": {},
   "outputs": [],
   "source": [
    "def areAnagrams2(firstString, secondString):\n",
    "    firstWordHashTable = {}\n",
    "    secondWordHashTable = {}\n",
    "\n",
    "    #Create a hash table from the first string:\n",
    "    for char in firstString:\n",
    "        if firstWordHashTable.get(char):\n",
    "            firstWordHashTable[char] += 1\n",
    "        else:\n",
    "            firstWordHashTable[char] = 1\n",
    "\n",
    "    #Create a hash table out of the second string:\n",
    "    for char in secondString:\n",
    "        if secondWordHashTable.get(char):\n",
    "            secondWordHashTable[char] += 1\n",
    "        else:\n",
    "            secondWordHashTable[char] = 1\n",
    "\n",
    "    #The two strings are anagrams only if the two hash tables are identical:\n",
    "    return firstWordHashTable == secondWordHashTable"
   ]
  },
  {
   "cell_type": "code",
   "execution_count": null,
   "id": "650a28bf-889c-4479-a51e-31f82fd0fc54",
   "metadata": {},
   "outputs": [],
   "source": [
    "def group_array(array):\n",
    "    hash_table = {}\n",
    "    new_array = []\n",
    "\n",
    "    #The tallies of each stirng go in a hash table\n",
    "    "
   ]
  }
 ],
 "metadata": {
  "kernelspec": {
   "display_name": "Python 3 (ipykernel)",
   "language": "python",
   "name": "python3"
  },
  "language_info": {
   "codemirror_mode": {
    "name": "ipython",
    "version": 3
   },
   "file_extension": ".py",
   "mimetype": "text/x-python",
   "name": "python",
   "nbconvert_exporter": "python",
   "pygments_lexer": "ipython3",
   "version": "3.12.7"
  }
 },
 "nbformat": 4,
 "nbformat_minor": 5
}
