{
 "cells": [
  {
   "cell_type": "code",
   "execution_count": 2,
   "id": "2522ddf9-b060-4dc4-938d-c72902723ce0",
   "metadata": {},
   "outputs": [],
   "source": [
    "def connect_books_with_authors(books, authors):\n",
    "    books_with_authors = []\n",
    "\n",
    "    for book in books:\n",
    "        for author in authors:\n",
    "            if (book[\"author_id\"] == author[\"author_id\"]):\n",
    "                books_with_authors.append({title: book[\"title\"], author: author[\"name\"]})\n",
    "\n",
    "    return books_with_authors"
   ]
  }
 ],
 "metadata": {
  "kernelspec": {
   "display_name": "Python 3 (ipykernel)",
   "language": "python",
   "name": "python3"
  },
  "language_info": {
   "codemirror_mode": {
    "name": "ipython",
    "version": 3
   },
   "file_extension": ".py",
   "mimetype": "text/x-python",
   "name": "python",
   "nbconvert_exporter": "python",
   "pygments_lexer": "ipython3",
   "version": "3.12.7"
  }
 },
 "nbformat": 4,
 "nbformat_minor": 5
}
