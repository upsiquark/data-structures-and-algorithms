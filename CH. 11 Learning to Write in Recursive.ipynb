{
 "cells": [
  {
   "cell_type": "code",
   "execution_count": 1,
   "id": "f0189472-f5ee-4756-888e-221d014a598d",
   "metadata": {},
   "outputs": [],
   "source": [
    "#A countdown function\n",
    "\n",
    "def countdown(number):\n",
    "    print(number)\n",
    "\n",
    "    if (number == 0):\n",
    "        return;\n",
    "    else:\n",
    "        countdown(number - 1)"
   ]
  },
  {
   "cell_type": "code",
   "execution_count": 3,
   "id": "07c0d1c7-99e9-4588-b23d-ced6a99c1b6c",
   "metadata": {},
   "outputs": [],
   "source": [
    "#Revisiting the previous directory function using recursion\n",
    "#this follows a similar pattern to the countdown function\n",
    "\n",
    "def find_directoriesR(directory):\n",
    "    import os\n",
    "    for file in os.listdir(directory):\n",
    "        if (os.path.isdir(os.path.join(directory, file)) and file not in (\".\", \"..\")):\n",
    "            print (os.path.join(directory, file))\n",
    "\n",
    "            find_directories(os.path.join(directory, file))"
   ]
  },
  {
   "cell_type": "code",
   "execution_count": 16,
   "id": "599db4c4-013c-472f-b32e-296fd2534fb2",
   "metadata": {},
   "outputs": [],
   "source": [
    "#Now a function that doubles every element in the array passed to it\n",
    "#my version\n",
    "\n",
    "def double_array1(array, idx):\n",
    "    array[idx] *= 2\n",
    "    if ( idx < len(array)-1):\n",
    "        double_array(array, idx + 1)"
   ]
  },
  {
   "cell_type": "code",
   "execution_count": 18,
   "id": "880643ed-e4ae-4e25-8a4e-cab6ca331328",
   "metadata": {},
   "outputs": [],
   "source": [
    "#The version in the text\n",
    "def double_array(array, idx=0):\n",
    "    if (idx >= len(array)):\n",
    "        return\n",
    "    array[idx] *= 2\n",
    "    double_array(array, idx+1)"
   ]
  },
  {
   "cell_type": "code",
   "execution_count": 8,
   "id": "37772059-2c31-4aa4-a39b-657d291e6d19",
   "metadata": {},
   "outputs": [],
   "source": [
    "#Factorial without recursion\n",
    "\n",
    "def factorial(n):\n",
    "    product = 1\n",
    "    for num in range(1, n + 1):\n",
    "        product *= num\n",
    "    return product"
   ]
  },
  {
   "cell_type": "code",
   "execution_count": 9,
   "id": "a786ffe2-528d-4013-ad3e-69ac012230fb",
   "metadata": {},
   "outputs": [],
   "source": [
    "#Factorial with recursion\n",
    "#based on the subproblem concept\n",
    "\n",
    "def factorialR(n):\n",
    "    if (n == 1):\n",
    "        return 1\n",
    "    else:\n",
    "        return n * factorial(n - 1)"
   ]
  },
  {
   "cell_type": "code",
   "execution_count": 10,
   "id": "dc646b86-e809-457e-872f-60f7a875863e",
   "metadata": {},
   "outputs": [],
   "source": [
    "#Factorial based on recursion\n",
    "#with the passing of extra parameters\n",
    "\n",
    "def factorialX(n, i=1, product=1):\n",
    "    if (i > n):\n",
    "        return product\n",
    "    else:\n",
    "        return factorial(n, i+1, product*i)"
   ]
  },
  {
   "cell_type": "code",
   "execution_count": 10,
   "id": "10029a24-e05a-4dd0-bb11-3d9e130f7045",
   "metadata": {},
   "outputs": [],
   "source": [
    "#A function that takes the sum of all the elements in an array\n",
    "\n",
    "def array_sum(array):\n",
    "    if (len(array) == 1):\n",
    "        return array[0]\n",
    "    else:\n",
    "        return array[0] + array_sum(array[1: len(array)])"
   ]
  },
  {
   "cell_type": "code",
   "execution_count": 13,
   "id": "104942f6-836c-4b7d-b1e5-38d7764104a7",
   "metadata": {},
   "outputs": [],
   "source": [
    "#String reversal\n",
    "\n",
    "def string_reversal(string):\n",
    "    if (len(string) == 1):\n",
    "        return string[0]\n",
    "    else:\n",
    "        return string_reversal(string[1:len(string)]) + string [0]"
   ]
  },
  {
   "cell_type": "code",
   "execution_count": 18,
   "id": "8b76365d-fbcb-4dac-b309-6f4cd41f9275",
   "metadata": {},
   "outputs": [],
   "source": [
    "#Count the instances of 'x' in a string\n",
    "\n",
    "def countX(string):\n",
    "    if (len(string) == 1):\n",
    "        if string[0] == \"x\":\n",
    "            return 1\n",
    "        else:\n",
    "            return 0\n",
    "            \n",
    "    if (string[0] == \"x\"):\n",
    "        return 1 + countX(string[1: len(string)])\n",
    "    else:\n",
    "        return countX(string[1: len(string)])"
   ]
  },
  {
   "cell_type": "code",
   "execution_count": 21,
   "id": "c86cb375-6786-4e86-8dec-91e8e8e564fe",
   "metadata": {},
   "outputs": [],
   "source": [
    "#We can simplify this\n",
    "#since an empty string has zero length:\n",
    "\n",
    "def count_X(string):\n",
    "    if (len(string) == 0):\n",
    "        return 0\n",
    "    if (string[0] == \"x\"):\n",
    "        return 1 + countX(string[1: len(string)])\n",
    "    else:\n",
    "        return countX(string[1: len(string)])"
   ]
  },
  {
   "cell_type": "code",
   "execution_count": 27,
   "id": "018e6579-5a5c-4b1a-84ef-660babe2d629",
   "metadata": {},
   "outputs": [],
   "source": [
    "#Now we can make it so that it checks for a given string\n",
    "\n",
    "def count_instances(string, character):\n",
    "    if (len(string) == 0):\n",
    "        return 0\n",
    "    if (string[0] == character):\n",
    "        return 1 + countX(string[1: len(string)])\n",
    "    else:\n",
    "        return countX(string[1: len(string)])"
   ]
  },
  {
   "cell_type": "code",
   "execution_count": 1,
   "id": "e317532b-c38d-4fd2-99f4-b64e90c346f8",
   "metadata": {},
   "outputs": [],
   "source": [
    "#The staircase problem\n",
    "\n",
    "def number_of_paths(n):\n",
    "    if (n < 0):\n",
    "        return 0\n",
    "    elif (n == 1 or n == 0):\n",
    "        return 1\n",
    "    else:\n",
    "        return number_of_paths(n - 1) + number_of_paths(n - 2) + number_of_paths(n - 3)"
   ]
  },
  {
   "cell_type": "code",
   "execution_count": 2,
   "id": "132c143e-5e9a-43d6-8651-bc1badc14189",
   "metadata": {},
   "outputs": [],
   "source": [
    "#Anagrams!\n",
    "#the following function returns an array of all possible anagrams of a string\n",
    "\n",
    "def anagrams(string):\n",
    "\n",
    "    \n",
    "    if (len(string) == 1):\n",
    "        return [string[0]]\n",
    "\n",
    "    \n",
    "    collection = []\n",
    "\n",
    "\n",
    "    substring_anagrams = anagrams(string[1: len(string)])\n",
    "\n",
    "    for substring_anagram in substring_anagrams:\n",
    "        for idx in range(len(substring_anagram)+1):\n",
    "\n",
    "            copy = substring_anagram\n",
    "            \n",
    "            copy = substring_anagram[:idx] + string[0] + substring_anagram[idx:]\n",
    "            \n",
    "            collection.append(copy)\n",
    "\n",
    "    return collection"
   ]
  },
  {
   "cell_type": "code",
   "execution_count": 3,
   "id": "6a218225-2fed-4aa4-9b8c-404a1daaa94b",
   "metadata": {},
   "outputs": [],
   "source": [
    "#A function that accepts an array of strings and returns the total number of characters\n",
    "#across all strings\n",
    "\n",
    "def string_counter(array):   \n",
    "    if (len(array) == 0):\n",
    "        return 0\n",
    "    else:\n",
    "        return len(array[0]) + string_counter(array[1:len(array)])"
   ]
  },
  {
   "cell_type": "code",
   "execution_count": 9,
   "id": "43cbef32-971e-4537-a600-ff8271a76c67",
   "metadata": {},
   "outputs": [],
   "source": [
    "#A function that accepts an array of numbers and \n",
    "#returns a new array containing just the even numbers\n",
    "\n",
    "def even_counter(array, evens):\n",
    "    if (len(array) == 0):\n",
    "        return evens\n",
    "    elif (array[0] %2 == 1):\n",
    "        return even_counter(array[1:len(array)], evens)\n",
    "    else:\n",
    "        evens.append(array[0])\n",
    "        return even_counter(array[1:len(array)], evens)"
   ]
  },
  {
   "cell_type": "code",
   "execution_count": 11,
   "id": "47cdf859-4184-4bf1-9003-db48f3bca474",
   "metadata": {},
   "outputs": [],
   "source": [
    "#Here we have a function that deals with triangular numbers\n",
    "\n",
    "def triangular_numbers(n):\n",
    "    if (n <= 0):\n",
    "        return 0\n",
    "    elif (n == 1):\n",
    "        return 1\n",
    "    else:\n",
    "        return (n + triangular_numbers(n-1))"
   ]
  },
  {
   "cell_type": "code",
   "execution_count": 16,
   "id": "c9e83ff2-c62b-4897-9afb-fa74e057f9b0",
   "metadata": {},
   "outputs": [],
   "source": [
    "#A function that returns the index of the first instance of the character \"x\" in a string\n",
    "#assuming at least one \"x\" is present\n",
    "\n",
    "def index_of_x(string, idx=0):\n",
    "    if (string[idx] == \"x\"):\n",
    "        return idx\n",
    "    return index_of_x(string, idx+1)"
   ]
  },
  {
   "cell_type": "code",
   "execution_count": 19,
   "id": "992810a6-fdb4-4e44-ae62-54943bd07913",
   "metadata": {},
   "outputs": [],
   "source": [
    "#The unique paths problem\n",
    "\n",
    "def unique_paths(m, n):\n",
    "    if m == 1 or n == 1:\n",
    "        return 1\n",
    "    else:\n",
    "        return unique_paths(m-1, n) + unique_paths(m, n-1)"
   ]
  }
 ],
 "metadata": {
  "kernelspec": {
   "display_name": "Python 3 (ipykernel)",
   "language": "python",
   "name": "python3"
  },
  "language_info": {
   "codemirror_mode": {
    "name": "ipython",
    "version": 3
   },
   "file_extension": ".py",
   "mimetype": "text/x-python",
   "name": "python",
   "nbconvert_exporter": "python",
   "pygments_lexer": "ipython3",
   "version": "3.9.20"
  }
 },
 "nbformat": 4,
 "nbformat_minor": 5
}
