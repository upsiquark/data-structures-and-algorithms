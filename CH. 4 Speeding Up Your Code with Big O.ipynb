{
 "cells": [
  {
   "cell_type": "code",
   "execution_count": 2,
   "id": "434fa4d5-96e5-41f1-8185-fe83ab26b194",
   "metadata": {},
   "outputs": [],
   "source": [
    "#We will begin with an implementation of Bubble Sort\n",
    "#This was already done in Python, so nothing is changed.\n",
    "#It is here just to be consistent with keeping a working version of the examples.\n",
    "\n",
    "def bubble_sort(list):\n",
    "    unsorted_until_index = len(list) - 1\n",
    "    sorted = False\n",
    "    \n",
    "    while not sorted:\n",
    "        sorted = True\n",
    "        for i in range(unsorted_until_index):\n",
    "            if list[i] > list [i+1]:\n",
    "                list[i], list[i+1] = list[i+1], list[i]\n",
    "                sorted = False\n",
    "        unsorted_until_index -= 1\n",
    "    return list"
   ]
  },
  {
   "cell_type": "code",
   "execution_count": 8,
   "id": "3e0fd94f-ef46-4661-9963-a344b93f1a22",
   "metadata": {},
   "outputs": [],
   "source": [
    "#Next is a function that checks if an array has a duplicate value\n",
    "def hasDuplicateValue(array):\n",
    "    for i in range(len(array)):\n",
    "        for j in range(len(array)):\n",
    "            if (i != j and array[i] == array [j]):\n",
    "                return True\n",
    "    return False"
   ]
  },
  {
   "cell_type": "code",
   "execution_count": 9,
   "id": "125d68f9-ff53-4da4-8112-cb998ac1bd47",
   "metadata": {},
   "outputs": [],
   "source": [
    "#By adding adding a section of code that keeps track of the algorithm's \n",
    "#number of steps, we see that it takes N^2 steps\n",
    "\n",
    "def hasDuplicateValue_2(array):\n",
    "    steps = 0 #step count\n",
    "    for i in range(len(array)):\n",
    "        for j in range(len(array)):\n",
    "            steps += 1\n",
    "            if (i != j and array[i] == array [j]):\n",
    "                return True\n",
    "    print(steps)\n",
    "    return False"
   ]
  },
  {
   "cell_type": "code",
   "execution_count": 48,
   "id": "20cb0f0d-1d4f-4f39-bb31-5a18b5ea6fd1",
   "metadata": {},
   "outputs": [],
   "source": [
    "#Let's look at a linear solution to the duplicate value function\n",
    "import numpy as np\n",
    "def hasDuplicateValue_3(array):\n",
    "    existingNumbers = np.zeros(max(array)+1) #this was my attempt to make the same code run with python\n",
    "    \n",
    "    for i in range(len(array)):\n",
    "        if (existingNumbers[array[i]] == 1):\n",
    "            return True\n",
    "        else:\n",
    "            existingNumbers[array[i]] = 1\n",
    "    return False"
   ]
  },
  {
   "cell_type": "code",
   "execution_count": 49,
   "id": "0072b0c7-2835-4af6-98e0-06a099d7c5bb",
   "metadata": {},
   "outputs": [],
   "source": [
    "#Let's count the amount of steps this algorithm takes\n",
    "import numpy as np\n",
    "def hasDuplicateValue_4(array):\n",
    "    steps = 0\n",
    "    existingNumbers = np.zeros(max(array)+1) #this was my attempt to make the same code run with python\n",
    "    for i in range(len(array)):\n",
    "        steps += 1\n",
    "        if (existingNumbers[array[i]] == 1):\n",
    "            return True\n",
    "        else:\n",
    "            existingNumbers[array[i]] = 1\n",
    "    print(steps)\n",
    "    return False"
   ]
  },
  {
   "cell_type": "code",
   "execution_count": null,
   "id": "b5af1b4a-a2f9-44f2-9c3c-2d445f0cf558",
   "metadata": {},
   "outputs": [],
   "source": []
  }
 ],
 "metadata": {
  "kernelspec": {
   "display_name": "Python 3 (ipykernel)",
   "language": "python",
   "name": "python3"
  },
  "language_info": {
   "codemirror_mode": {
    "name": "ipython",
    "version": 3
   },
   "file_extension": ".py",
   "mimetype": "text/x-python",
   "name": "python",
   "nbconvert_exporter": "python",
   "pygments_lexer": "ipython3",
   "version": "3.9.20"
  }
 },
 "nbformat": 4,
 "nbformat_minor": 5
}
