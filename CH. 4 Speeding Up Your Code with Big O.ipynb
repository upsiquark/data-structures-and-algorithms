{
 "cells": [
  {
   "cell_type": "code",
   "execution_count": 2,
   "id": "434fa4d5-96e5-41f1-8185-fe83ab26b194",
   "metadata": {},
   "outputs": [],
   "source": [
    "#We will begin with an implementation of Bubble Sort\n",
    "#This was already done in Python, so nothing is changed.\n",
    "#It is here just to be consistent with keeping a working version of the examples.\n",
    "\n",
    "def bubble_sort(list):\n",
    "    unsorted_until_index = len(list) - 1\n",
    "    sorted = False\n",
    "    \n",
    "    while not sorted:\n",
    "        sorted = True\n",
    "        for i in range(unsorted_until_index):\n",
    "            if list[i] > list [i+1]:\n",
    "                list[i], list[i+1] = list[i+1], list[i]\n",
    "                sorted = False\n",
    "        unsorted_until_index -= 1\n",
    "    return list"
   ]
  },
  {
   "cell_type": "code",
   "execution_count": 8,
   "id": "3e0fd94f-ef46-4661-9963-a344b93f1a22",
   "metadata": {},
   "outputs": [],
   "source": [
    "#Next is a function that checks if an array has a duplicate value\n",
    "def hasDuplicateValue(array):\n",
    "    for i in range(len(array)):\n",
    "        for j in range(len(array)):\n",
    "            if (i != j and array[i] == array [j]):\n",
    "                return True\n",
    "    return False"
   ]
  },
  {
   "cell_type": "code",
   "execution_count": 9,
   "id": "125d68f9-ff53-4da4-8112-cb998ac1bd47",
   "metadata": {},
   "outputs": [],
   "source": [
    "#By adding adding a section of code that keeps track of the algorithm's \n",
    "#number of steps, we see that it takes N^2 steps\n",
    "\n",
    "def hasDuplicateValue_2(array):\n",
    "    steps = 0 #step count\n",
    "    for i in range(len(array)):\n",
    "        for j in range(len(array)):\n",
    "            steps += 1\n",
    "            if (i != j and array[i] == array [j]):\n",
    "                return True\n",
    "    print(steps)\n",
    "    return False"
   ]
  },
  {
   "cell_type": "code",
   "execution_count": 48,
   "id": "20cb0f0d-1d4f-4f39-bb31-5a18b5ea6fd1",
   "metadata": {},
   "outputs": [],
   "source": [
    "#Let's look at a linear solution to the duplicate value function\n",
    "import numpy as np\n",
    "def hasDuplicateValue_3(array):\n",
    "    existingNumbers = np.zeros(max(array)+1) #this was my attempt to make the same code run with python\n",
    "    \n",
    "    for i in range(len(array)):\n",
    "        if (existingNumbers[array[i]] == 1):\n",
    "            return True\n",
    "        else:\n",
    "            existingNumbers[array[i]] = 1\n",
    "    return False"
   ]
  },
  {
   "cell_type": "code",
   "execution_count": 49,
   "id": "0072b0c7-2835-4af6-98e0-06a099d7c5bb",
   "metadata": {},
   "outputs": [],
   "source": [
    "#Let's count the amount of steps this algorithm takes\n",
    "import numpy as np\n",
    "def hasDuplicateValue_4(array):\n",
    "    steps = 0\n",
    "    existingNumbers = np.zeros(max(array)+1) #this was my attempt to make the same code run with python\n",
    "    for i in range(len(array)):\n",
    "        steps += 1\n",
    "        if (existingNumbers[array[i]] == 1):\n",
    "            return True\n",
    "        else:\n",
    "            existingNumbers[array[i]] = 1\n",
    "    print(steps)\n",
    "    return False"
   ]
  },
  {
   "cell_type": "code",
   "execution_count": 2,
   "id": "b5af1b4a-a2f9-44f2-9c3c-2d445f0cf558",
   "metadata": {},
   "outputs": [],
   "source": [
    "#Exercises!\n",
    "#Use Big O Notation to describe the time complexity of the following function.\n",
    "#It finds the greaters product of any pair of two numbers within a given array:\n",
    "\n",
    "def greatersProduct(array):\n",
    "    greaterstProductSoFar = array[0] * array[1]\n",
    "    for i, iVal in enumerate(array):\n",
    "        if i != j and iVal * jVal > greatestProductSoFar:\n",
    "            greatestProductSoFar = iVal * jVal\n",
    "    return greatestProductSoFar"
   ]
  },
  {
   "cell_type": "code",
   "execution_count": 4,
   "id": "6246609f-d3ef-45ea-8f06-83823f94f229",
   "metadata": {},
   "outputs": [],
   "source": [
    "#The following fucntion finds the greatest single number within an array,\n",
    "#but has efficiency of O(N^2). Rewrite the function so that it becomes\n",
    "#a speedy O(N):\n",
    "\n",
    "def greatestNumber(array):\n",
    "    for i in array:\n",
    "        #Assume for now that i is the greatest:\n",
    "        isIValTheGreatest = True\n",
    "        \n",
    "        for j in array:\n",
    "            #If we find another value that is greater than i,\n",
    "            #i is not the greatest:\n",
    "            if j > i:\n",
    "                isIValTheGreatest = False\n",
    "        #If, by the time we checked all the other numbers, i\n",
    "        #is still the greatest, it means that i is the greatest number:\n",
    "        if isIValTheGreatest:\n",
    "            return i"
   ]
  },
  {
   "cell_type": "code",
   "execution_count": 14,
   "id": "998924fa-4e11-4340-9f15-67f6f95882af",
   "metadata": {},
   "outputs": [],
   "source": [
    "#The following solution makes the algorithm have a speed of O(N):\n",
    "\n",
    "def greatestNumber2(array):\n",
    "    #begin with the assumption that the first element of the array is the greatest element\n",
    "    greatestNumber2 = array[0]\n",
    "\n",
    "    #then we check the first element against the \n",
    "    for i in array:\n",
    "        if (array[0] < i):\n",
    "            greatestNumber2 = i\n",
    "    return greatestNumber2"
   ]
  },
  {
   "cell_type": "code",
   "execution_count": null,
   "id": "5d0c5342-f313-4297-aea8-555295dca0d9",
   "metadata": {},
   "outputs": [],
   "source": []
  }
 ],
 "metadata": {
  "kernelspec": {
   "display_name": "Python 3 (ipykernel)",
   "language": "python",
   "name": "python3"
  },
  "language_info": {
   "codemirror_mode": {
    "name": "ipython",
    "version": 3
   },
   "file_extension": ".py",
   "mimetype": "text/x-python",
   "name": "python",
   "nbconvert_exporter": "python",
   "pygments_lexer": "ipython3",
   "version": "3.9.20"
  }
 },
 "nbformat": 4,
 "nbformat_minor": 5
}
