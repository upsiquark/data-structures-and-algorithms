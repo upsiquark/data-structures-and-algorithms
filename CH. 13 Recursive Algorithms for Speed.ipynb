{
 "cells": [
  {
   "cell_type": "code",
   "execution_count": 2,
   "id": "1c64e851-5cb1-4711-858d-db551e3d0474",
   "metadata": {},
   "outputs": [],
   "source": [
    "#A code implementation of partitioning\n",
    "\n",
    "class SortableArray:\n",
    "    attr_reader = []\n",
    "\n",
    "    def __init__(self, array):\n",
    "        self.array = array\n",
    "\n",
    "    def partition(self, left_pointer, right_pointer):\n",
    "\n",
    "        pivot_index = right_pointer\n",
    "\n",
    "        pivot = self.array[pivot_index]\n",
    "\n",
    "        right_pointer -= 1\n",
    "\n",
    "        while True:\n",
    "            while self.array[left_pointer] < pivot:\n",
    "                left_pointer += 1\n",
    "\n",
    "            while self.array[right_pointer] > pivot:\n",
    "                right_pointer -= 1\n",
    "\n",
    "            if (left_pointer >= right_pointer):\n",
    "                break\n",
    "\n",
    "            else:\n",
    "                self.array[left_pointer], self.array[right_pointer] = self.array[right_pointer], self.array[left_pointer]\n",
    "\n",
    "                left_pointer += 1\n",
    "\n",
    "        self.array[left_pointer], self.array[pivot_index] = self.array[pivot_index], self.array[left_pointer]\n",
    "\n",
    "        return left_pointer"
   ]
  }
 ],
 "metadata": {
  "kernelspec": {
   "display_name": "Python 3 (ipykernel)",
   "language": "python",
   "name": "python3"
  },
  "language_info": {
   "codemirror_mode": {
    "name": "ipython",
    "version": 3
   },
   "file_extension": ".py",
   "mimetype": "text/x-python",
   "name": "python",
   "nbconvert_exporter": "python",
   "pygments_lexer": "ipython3",
   "version": "3.9.20"
  }
 },
 "nbformat": 4,
 "nbformat_minor": 5
}
